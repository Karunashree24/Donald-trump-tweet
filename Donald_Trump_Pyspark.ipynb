{
 "cells": [
  {
   "cell_type": "code",
   "execution_count": null,
   "metadata": {
    "colab": {
     "base_uri": "https://localhost:8080/"
    },
    "id": "Moa-lG-ZXdPa",
    "outputId": "2deb4efa-f84b-4dc7-8eb4-645606b24fe3"
   },
   "outputs": [],
   "source": [
    "!pip install pyspark"
   ]
  },
  {
   "cell_type": "code",
   "execution_count": null,
   "metadata": {
    "id": "G0ScKPzMXvuS"
   },
   "outputs": [],
   "source": [
    "import pyspark\n",
    "sc = pyspark.SparkContext(appName=\"Spark Donald Trump Communication Analysis on Twitter\")"
   ]
  },
  {
   "cell_type": "code",
   "execution_count": null,
   "metadata": {
    "id": "a2hgxrMxXz-a"
   },
   "outputs": [],
   "source": [
    "#data load function\n",
    "def loadData(path):\n",
    "    rdd = sc.textFile(path)\\\n",
    "            .flatMap(lambda lines: lines.lower().split())\\\n",
    "            .flatMap(lambda word: word.split(\",\"))\\\n",
    "            .flatMap(lambda word : word.split(\".\"))\\\n",
    "            .flatMap(lambda word : word.split(\";\"))\\\n",
    "            .flatMap(lambda word : word.split(\":\"))\\\n",
    "            .flatMap(lambda word : word.split(\"?\"))\\\n",
    "            .flatMap(lambda word : word.split(\"!\"))\\\n",
    "            .flatMap(lambda word : word.split(\"\\\"\"))\\\n",
    "            .flatMap(lambda word : word.split(\"-\"))\\\n",
    "            .flatMap(lambda word : word.split(\"\\'\"))\\\n",
    "            .filter(filterWord)\\\n",
    "            .map(lambda word: (word, 1))\\\n",
    "            .reduceByKey( lambda count1, count2 : count1 + count2 ) \\\n",
    "            .map(lambda data: Row(label=data[0], length=len(data[0]), freq=data[1]))\n",
    "    \n",
    "    return spark.createDataFrame(rdd)"
   ]
  },
  {
   "cell_type": "code",
   "execution_count": null,
   "metadata": {
    "colab": {
     "base_uri": "https://localhost:8080/"
    },
    "id": "PHSlngR3Zndu",
    "outputId": "2fa2e8a2-2496-4056-ed5f-df839bcb42c7"
   },
   "outputs": [
    {
     "name": "stdout",
     "output_type": "stream",
     "text": [
      "  % Total    % Received % Xferd  Average Speed   Time    Time     Time  Current\n",
      "                                 Dload  Upload   Total   Spent    Left  Speed\n",
      "100   155  100   155    0     0    622      0 --:--:-- --:--:-- --:--:--   622\n",
      "nvcc: NVIDIA (R) Cuda compiler driver\n",
      "Copyright (c) 2005-2019 NVIDIA Corporation\n",
      "Built on Sun_Jul_28_19:07:16_PDT_2019\n",
      "Cuda compilation tools, release 10.1, V10.1.243\n"
     ]
    }
   ],
   "source": [
    "!curl -O https://raw.githubusercontent.com/deepjavalibrary/d2l-java/master/tools/fix-colab-gpu.sh && bash fix-colab-gpu.sh"
   ]
  },
  {
   "cell_type": "code",
   "execution_count": null,
   "metadata": {
    "colab": {
     "base_uri": "https://localhost:8080/"
    },
    "id": "6I9we6THZuyQ",
    "outputId": "8d158e30-a5e5-41af-ed02-74dc233b621b"
   },
   "outputs": [
    {
     "name": "stdout",
     "output_type": "stream",
     "text": [
      "  % Total    % Received % Xferd  Average Speed   Time    Time     Time  Current\n",
      "                                 Dload  Upload   Total   Spent    Left  Speed\n",
      "\r",
      "  0     0    0     0    0     0      0      0 --:--:-- --:--:-- --:--:--     0\r",
      "100   520  100   520    0     0   2841      0 --:--:-- --:--:-- --:--:--  2841\n",
      "Update environment...\n",
      "Install Java...\n",
      "Install Jupyter java kernel...\n"
     ]
    }
   ],
   "source": [
    "!curl -O https://raw.githubusercontent.com/deepjavalibrary/d2l-java/master/tools/colab_build.sh && bash colab_build.sh"
   ]
  },
  {
   "cell_type": "code",
   "execution_count": null,
   "metadata": {
    "colab": {
     "base_uri": "https://localhost:8080/"
    },
    "id": "v-fZDQ9UZww-",
    "outputId": "f6e9f9d7-60a1-4771-dab1-798fe887a719"
   },
   "outputs": [
    {
     "name": "stdout",
     "output_type": "stream",
     "text": [
      "Requirement already satisfied: jupyter in /usr/local/lib/python3.7/dist-packages (1.0.0)\n",
      "Requirement already satisfied: ipykernel in /usr/local/lib/python3.7/dist-packages (from jupyter) (4.10.1)\n",
      "Requirement already satisfied: nbconvert in /usr/local/lib/python3.7/dist-packages (from jupyter) (5.6.1)\n",
      "Requirement already satisfied: qtconsole in /usr/local/lib/python3.7/dist-packages (from jupyter) (5.2.2)\n",
      "Requirement already satisfied: notebook in /usr/local/lib/python3.7/dist-packages (from jupyter) (5.3.1)\n",
      "Requirement already satisfied: jupyter-console in /usr/local/lib/python3.7/dist-packages (from jupyter) (5.2.0)\n",
      "Requirement already satisfied: ipywidgets in /usr/local/lib/python3.7/dist-packages (from jupyter) (7.6.5)\n",
      "Requirement already satisfied: jupyter-client in /usr/local/lib/python3.7/dist-packages (from ipykernel->jupyter) (5.3.5)\n",
      "Requirement already satisfied: tornado>=4.0 in /usr/local/lib/python3.7/dist-packages (from ipykernel->jupyter) (5.1.1)\n",
      "Requirement already satisfied: ipython>=4.0.0 in /usr/local/lib/python3.7/dist-packages (from ipykernel->jupyter) (5.5.0)\n",
      "Requirement already satisfied: traitlets>=4.1.0 in /usr/local/lib/python3.7/dist-packages (from ipykernel->jupyter) (5.1.1)\n",
      "Requirement already satisfied: prompt-toolkit<2.0.0,>=1.0.4 in /usr/local/lib/python3.7/dist-packages (from ipython>=4.0.0->ipykernel->jupyter) (1.0.18)\n",
      "Requirement already satisfied: simplegeneric>0.8 in /usr/local/lib/python3.7/dist-packages (from ipython>=4.0.0->ipykernel->jupyter) (0.8.1)\n",
      "Requirement already satisfied: pickleshare in /usr/local/lib/python3.7/dist-packages (from ipython>=4.0.0->ipykernel->jupyter) (0.7.5)\n",
      "Requirement already satisfied: setuptools>=18.5 in /usr/local/lib/python3.7/dist-packages (from ipython>=4.0.0->ipykernel->jupyter) (57.4.0)\n",
      "Requirement already satisfied: pygments in /usr/local/lib/python3.7/dist-packages (from ipython>=4.0.0->ipykernel->jupyter) (2.6.1)\n",
      "Requirement already satisfied: decorator in /usr/local/lib/python3.7/dist-packages (from ipython>=4.0.0->ipykernel->jupyter) (4.4.2)\n",
      "Requirement already satisfied: pexpect in /usr/local/lib/python3.7/dist-packages (from ipython>=4.0.0->ipykernel->jupyter) (4.8.0)\n",
      "Requirement already satisfied: wcwidth in /usr/local/lib/python3.7/dist-packages (from prompt-toolkit<2.0.0,>=1.0.4->ipython>=4.0.0->ipykernel->jupyter) (0.2.5)\n",
      "Requirement already satisfied: six>=1.9.0 in /usr/local/lib/python3.7/dist-packages (from prompt-toolkit<2.0.0,>=1.0.4->ipython>=4.0.0->ipykernel->jupyter) (1.15.0)\n",
      "Requirement already satisfied: ipython-genutils~=0.2.0 in /usr/local/lib/python3.7/dist-packages (from ipywidgets->jupyter) (0.2.0)\n",
      "Requirement already satisfied: jupyterlab-widgets>=1.0.0 in /usr/local/lib/python3.7/dist-packages (from ipywidgets->jupyter) (1.0.2)\n",
      "Requirement already satisfied: widgetsnbextension~=3.5.0 in /usr/local/lib/python3.7/dist-packages (from ipywidgets->jupyter) (3.5.2)\n",
      "Requirement already satisfied: nbformat>=4.2.0 in /usr/local/lib/python3.7/dist-packages (from ipywidgets->jupyter) (5.1.3)\n",
      "Requirement already satisfied: jsonschema!=2.5.0,>=2.4 in /usr/local/lib/python3.7/dist-packages (from nbformat>=4.2.0->ipywidgets->jupyter) (4.3.3)\n",
      "Requirement already satisfied: jupyter-core in /usr/local/lib/python3.7/dist-packages (from nbformat>=4.2.0->ipywidgets->jupyter) (4.9.2)\n",
      "Requirement already satisfied: importlib-metadata in /usr/local/lib/python3.7/dist-packages (from jsonschema!=2.5.0,>=2.4->nbformat>=4.2.0->ipywidgets->jupyter) (4.11.2)\n",
      "Requirement already satisfied: importlib-resources>=1.4.0 in /usr/local/lib/python3.7/dist-packages (from jsonschema!=2.5.0,>=2.4->nbformat>=4.2.0->ipywidgets->jupyter) (5.4.0)\n",
      "Requirement already satisfied: typing-extensions in /usr/local/lib/python3.7/dist-packages (from jsonschema!=2.5.0,>=2.4->nbformat>=4.2.0->ipywidgets->jupyter) (3.10.0.2)\n",
      "Requirement already satisfied: attrs>=17.4.0 in /usr/local/lib/python3.7/dist-packages (from jsonschema!=2.5.0,>=2.4->nbformat>=4.2.0->ipywidgets->jupyter) (21.4.0)\n",
      "Requirement already satisfied: pyrsistent!=0.17.0,!=0.17.1,!=0.17.2,>=0.14.0 in /usr/local/lib/python3.7/dist-packages (from jsonschema!=2.5.0,>=2.4->nbformat>=4.2.0->ipywidgets->jupyter) (0.18.1)\n",
      "Requirement already satisfied: zipp>=3.1.0 in /usr/local/lib/python3.7/dist-packages (from importlib-resources>=1.4.0->jsonschema!=2.5.0,>=2.4->nbformat>=4.2.0->ipywidgets->jupyter) (3.7.0)\n",
      "Requirement already satisfied: Send2Trash in /usr/local/lib/python3.7/dist-packages (from notebook->jupyter) (1.8.0)\n",
      "Requirement already satisfied: terminado>=0.8.1 in /usr/local/lib/python3.7/dist-packages (from notebook->jupyter) (0.13.3)\n",
      "Requirement already satisfied: jinja2 in /usr/local/lib/python3.7/dist-packages (from notebook->jupyter) (2.11.3)\n",
      "Requirement already satisfied: pyzmq>=13 in /usr/local/lib/python3.7/dist-packages (from jupyter-client->ipykernel->jupyter) (22.3.0)\n",
      "Requirement already satisfied: python-dateutil>=2.1 in /usr/local/lib/python3.7/dist-packages (from jupyter-client->ipykernel->jupyter) (2.8.2)\n",
      "Requirement already satisfied: ptyprocess in /usr/local/lib/python3.7/dist-packages (from terminado>=0.8.1->notebook->jupyter) (0.7.0)\n",
      "Requirement already satisfied: MarkupSafe>=0.23 in /usr/local/lib/python3.7/dist-packages (from jinja2->notebook->jupyter) (2.0.1)\n",
      "Requirement already satisfied: mistune<2,>=0.8.1 in /usr/local/lib/python3.7/dist-packages (from nbconvert->jupyter) (0.8.4)\n",
      "Requirement already satisfied: entrypoints>=0.2.2 in /usr/local/lib/python3.7/dist-packages (from nbconvert->jupyter) (0.4)\n",
      "Requirement already satisfied: bleach in /usr/local/lib/python3.7/dist-packages (from nbconvert->jupyter) (4.1.0)\n",
      "Requirement already satisfied: pandocfilters>=1.4.1 in /usr/local/lib/python3.7/dist-packages (from nbconvert->jupyter) (1.5.0)\n",
      "Requirement already satisfied: testpath in /usr/local/lib/python3.7/dist-packages (from nbconvert->jupyter) (0.6.0)\n",
      "Requirement already satisfied: defusedxml in /usr/local/lib/python3.7/dist-packages (from nbconvert->jupyter) (0.7.1)\n",
      "Requirement already satisfied: webencodings in /usr/local/lib/python3.7/dist-packages (from bleach->nbconvert->jupyter) (0.5.1)\n",
      "Requirement already satisfied: packaging in /usr/local/lib/python3.7/dist-packages (from bleach->nbconvert->jupyter) (21.3)\n",
      "Requirement already satisfied: pyparsing!=3.0.5,>=2.0.2 in /usr/local/lib/python3.7/dist-packages (from packaging->bleach->nbconvert->jupyter) (3.0.7)\n",
      "Requirement already satisfied: qtpy in /usr/local/lib/python3.7/dist-packages (from qtconsole->jupyter) (2.0.1)\n"
     ]
    }
   ],
   "source": [
    "!pip install jupyter"
   ]
  },
  {
   "cell_type": "code",
   "execution_count": null,
   "metadata": {
    "colab": {
     "base_uri": "https://localhost:8080/"
    },
    "id": "aJiua8C4Z4vE",
    "outputId": "90392f0f-b9dc-40f5-9b82-cc6ffe640472"
   },
   "outputs": [
    {
     "name": "stdout",
     "output_type": "stream",
     "text": [
      "Mounted at /content/gdrive\n"
     ]
    }
   ],
   "source": [
    "from google.colab import drive\n",
    "drive.mount('/content/gdrive')"
   ]
  },
  {
   "cell_type": "code",
   "execution_count": null,
   "metadata": {
    "colab": {
     "base_uri": "https://localhost:8080/"
    },
    "id": "JMzcR-hvaLJc",
    "outputId": "0686f72b-6c4f-4ca6-92fc-6e661c967d9e"
   },
   "outputs": [
    {
     "data": {
      "text/plain": [
       "['Republicans and Democrats have both created our economic problems.;02/08/2011 18:07:48',\n",
       " 'I was thrilled to be back in the Great city of Charlotte, North Carolina with thousands of hardworking American Patriots who love our Country, cherish our values, respect our laws, and always put AMERICA FIRST! Thank you for a wonderful evening!! #KAG2020 https://t.co/dNJZfRsl9y;03/03/2020 01:34:50',\n",
       " 'RT @CBS_Herridge: READ: Letter to surveillance court obtained by CBS News questions where there will be further disciplinary action and cho…;17/01/2020 03:22:47',\n",
       " 'The Unsolicited Mail In Ballot Scam is a major threat to our Democracy, &amp  the Democrats know it. Almost all recent elections using this system, even though much smaller &amp   with far fewer Ballots to count, have ended up being a disaster. Large numbers of missing Ballots &amp  Fraud!;12/09/2020 20:10:58',\n",
       " \"RT @MZHemingway: Very friendly telling of events here about Comey's apparent leaking to compliant media. If you read those articles and tho…;17/01/2020 13:13:59\",\n",
       " 'RT @WhiteHouse: President @realDonaldTrump announced historic steps to protect the Constitutional right to pray in public schools! https://…;17/01/2020 00:11:56',\n",
       " '“I’m running as a proud Democrat, for the Senate”. Sleepy Joe Biden today. It’s only going to get worse. It is not sustainable for our County - China will own us!!!!;12/10/2020 22:22:39',\n",
       " 'Getting a little exercise this morning! https://t.co/fyAAcbhbgk;01/02/2020 16:14:02',\n",
       " 'https://t.co/4qwCKQOiOw;23/10/2020 04:52:14',\n",
       " 'https://t.co/VlEu8yyovv;23/10/2020 04:46:53']"
      ]
     },
     "execution_count": 9,
     "metadata": {},
     "output_type": "execute_result"
    }
   ],
   "source": [
    "## first read the trump_tweets.txt file into the RDD rdd_tweets\n",
    "\n",
    "rdd_tweets = sc.textFile('/content/gdrive/MyDrive/Spark_trump/trump_tweets.txt')\n",
    "\n",
    "# print a sample of 10 lines of rdd_tweets\n",
    "\n",
    "rdd_tweets.take(10)"
   ]
  },
  {
   "cell_type": "code",
   "execution_count": null,
   "metadata": {
    "id": "8zhtqpmJaoyK"
   },
   "outputs": [],
   "source": [
    "## Split each tweet into a list of string (1)\n",
    "\n",
    "# Import Regular Expressions library\n",
    "import re\n",
    "\n",
    "# Define a function to split the tweets into a word list\n",
    "def split_with_multiple_separator(string_value): \n",
    "     return re.compile(r'(?<!\\d{2}):|(?<!\\w)\\.(?!\\w)|,| |\\[|\\]|;|\\\"|!|--|–|“|(?=\\.\\s)|(?=\\.;)')\\\n",
    "                     .split(string_value.strip())\n",
    "                    # Negative lookahead assertion : '(?<!\\d{2}):' for time (hh:mm:ss) ;\n",
    "                    #                            '(?<!\\w)\\.(?!\\w)' for specific word with '.' in bewtween (e.g. U.S.)\n",
    "                    # Positive lookahead assertion : '(?=\\.\\s)' for full stop followed by whitespace\n",
    "                    #                                '(?=\\.;)' for full stop followed by a colon(:)\n",
    "                    # Other will be splited by , or [ or ] or ; or \"or ! or -- or – or “"
   ]
  },
  {
   "cell_type": "code",
   "execution_count": null,
   "metadata": {
    "colab": {
     "base_uri": "https://localhost:8080/"
    },
    "id": "YOWOs0Vcatnk",
    "outputId": "32696fed-2acd-432a-e8cf-887522261ac6"
   },
   "outputs": [
    {
     "data": {
      "text/plain": [
       "['Republicans',\n",
       " 'and',\n",
       " 'Democrats',\n",
       " 'have',\n",
       " 'both',\n",
       " 'created',\n",
       " 'our',\n",
       " 'economic',\n",
       " 'problems',\n",
       " '02/08/2011',\n",
       " '18:07:48',\n",
       " 'I',\n",
       " 'was',\n",
       " 'thrilled',\n",
       " 'to',\n",
       " 'be',\n",
       " 'back',\n",
       " 'in',\n",
       " 'the',\n",
       " 'Great',\n",
       " 'city',\n",
       " 'of',\n",
       " 'Charlotte',\n",
       " 'North',\n",
       " 'Carolina',\n",
       " 'with',\n",
       " 'thousands',\n",
       " 'of',\n",
       " 'hardworking',\n",
       " 'American',\n",
       " 'Patriots',\n",
       " 'who',\n",
       " 'love',\n",
       " 'our',\n",
       " 'Country',\n",
       " 'cherish',\n",
       " 'our',\n",
       " 'values',\n",
       " 'respect',\n",
       " 'our',\n",
       " 'laws',\n",
       " 'and',\n",
       " 'always',\n",
       " 'put',\n",
       " 'AMERICA',\n",
       " 'FIRST',\n",
       " 'Thank',\n",
       " 'you',\n",
       " 'for',\n",
       " 'a',\n",
       " 'wonderful',\n",
       " 'evening',\n",
       " '#KAG2020',\n",
       " 'https',\n",
       " '//t.co/dNJZfRsl9y',\n",
       " '03/03/2020',\n",
       " '01:34:50',\n",
       " 'RT',\n",
       " '@CBS_Herridge',\n",
       " 'READ']"
      ]
     },
     "execution_count": 11,
     "metadata": {},
     "output_type": "execute_result"
    }
   ],
   "source": [
    "## Split each tweet into a list of string (2)\n",
    "\n",
    "# Split the tweets into a word list and filter the punctuation\n",
    "rdd_tweets_words = rdd_tweets.flatMap(split_with_multiple_separator).filter(lambda word: word!='' and word!='”' and word!='.')\n",
    "rdd_tweets_words.take(60)"
   ]
  },
  {
   "cell_type": "code",
   "execution_count": null,
   "metadata": {
    "id": "EAaEhaulavtk"
   },
   "outputs": [],
   "source": [
    "## Delete the 'http://' contents (1)\n",
    "\n",
    "#Create a function to delete \"https\"\n",
    "delsite = [\"https\",\"//\",\"http\"]\n",
    "def delhttps(line):\n",
    "    for i in delsite:\n",
    "        if i in line:\n",
    "            return 1\n",
    "    return 0"
   ]
  },
  {
   "cell_type": "code",
   "execution_count": null,
   "metadata": {
    "colab": {
     "base_uri": "https://localhost:8080/"
    },
    "id": "HVYoke6oayv-",
    "outputId": "56e9c706-ab4d-4617-acbc-23d9000e5f7e"
   },
   "outputs": [
    {
     "data": {
      "text/plain": [
       "['Republicans',\n",
       " 'and',\n",
       " 'Democrats',\n",
       " 'have',\n",
       " 'both',\n",
       " 'created',\n",
       " 'our',\n",
       " 'economic',\n",
       " 'problems',\n",
       " '02/08/2011',\n",
       " '18:07:48',\n",
       " 'I',\n",
       " 'was',\n",
       " 'thrilled',\n",
       " 'to',\n",
       " 'be',\n",
       " 'back',\n",
       " 'in',\n",
       " 'the',\n",
       " 'Great',\n",
       " 'city',\n",
       " 'of',\n",
       " 'Charlotte',\n",
       " 'North',\n",
       " 'Carolina',\n",
       " 'with',\n",
       " 'thousands',\n",
       " 'of',\n",
       " 'hardworking',\n",
       " 'American',\n",
       " 'Patriots',\n",
       " 'who',\n",
       " 'love',\n",
       " 'our',\n",
       " 'Country',\n",
       " 'cherish',\n",
       " 'our',\n",
       " 'values',\n",
       " 'respect',\n",
       " 'our',\n",
       " 'laws',\n",
       " 'and',\n",
       " 'always',\n",
       " 'put',\n",
       " 'AMERICA',\n",
       " 'FIRST',\n",
       " 'Thank',\n",
       " 'you',\n",
       " 'for',\n",
       " 'a',\n",
       " 'wonderful',\n",
       " 'evening',\n",
       " '#KAG2020',\n",
       " '03/03/2020',\n",
       " '01:34:50',\n",
       " 'RT',\n",
       " '@CBS_Herridge',\n",
       " 'READ',\n",
       " 'Letter',\n",
       " 'to']"
      ]
     },
     "execution_count": 13,
     "metadata": {},
     "output_type": "execute_result"
    }
   ],
   "source": [
    "## Delete the 'http://' contents (2)\n",
    "\n",
    "rdd_tweets_words_noweb = rdd_tweets_words.filter(lambda line: delhttps(line) != 1)\n",
    "rdd_tweets_words_noweb.take(60)"
   ]
  },
  {
   "cell_type": "code",
   "execution_count": null,
   "metadata": {
    "colab": {
     "base_uri": "https://localhost:8080/"
    },
    "id": "OonqhWnqa5pF",
    "outputId": "8ead20b9-a7e5-466d-89f2-e00754a2d3e9"
   },
   "outputs": [
    {
     "data": {
      "text/plain": [
       "['republicans',\n",
       " 'and',\n",
       " 'democrats',\n",
       " 'have',\n",
       " 'both',\n",
       " 'created',\n",
       " 'our',\n",
       " 'economic',\n",
       " 'problems',\n",
       " '02/08/2011']"
      ]
     },
     "execution_count": 14,
     "metadata": {},
     "output_type": "execute_result"
    }
   ],
   "source": [
    "#transform all the words into lowercase\n",
    "rdd_tweets_words_lower = rdd_tweets_words_noweb.flatMap(lambda word:word.lower().split())\n",
    "rdd_tweets_words_lower.take(10)"
   ]
  },
  {
   "cell_type": "code",
   "execution_count": null,
   "metadata": {
    "colab": {
     "base_uri": "https://localhost:8080/"
    },
    "id": "9Br1aaCTa8Ji",
    "outputId": "51a3c96a-cca7-41b4-e022-836671c0c417"
   },
   "outputs": [
    {
     "name": "stdout",
     "output_type": "stream",
     "text": [
      "There are 58681 tweets in total from 2009 to 2020.\n"
     ]
    }
   ],
   "source": [
    "print (f'There are {rdd_tweets.count()} tweets in total from 2009 to 2020.') "
   ]
  },
  {
   "cell_type": "code",
   "execution_count": null,
   "metadata": {
    "colab": {
     "base_uri": "https://localhost:8080/"
    },
    "id": "bJS6qeJKbffw",
    "outputId": "adafaf8c-522c-4d44-abac-a852d44ced95"
   },
   "outputs": [
    {
     "data": {
      "text/plain": [
       "[('#KAG2020', 1),\n",
       " ('#MAGA', 1),\n",
       " ('#VOTE', 1),\n",
       " ('#MAGA🇺🇸🦅rally', 1),\n",
       " ('#VOTE', 1),\n",
       " ('#2A', 1),\n",
       " ('#VOTE', 1),\n",
       " ('#MAGA', 1),\n",
       " ('#VoteEarlyDay', 1),\n",
       " ('#MAGA🇺🇸', 1)]"
      ]
     },
     "execution_count": 16,
     "metadata": {},
     "output_type": "execute_result"
    }
   ],
   "source": [
    "\n",
    "## Split each tweet into words (keeping @ and #)\n",
    "words = rdd_tweets.flatMap(lambda word:re.split(',| |\\[|\\]|,|:|;|\\.|\\\"', word.strip())).flatMap(lambda line: line.split(\" \"))\n",
    "\n",
    "## Filter the words to get only hashtags\n",
    "hashtags = words.filter(lambda w: '#' in w)\n",
    "\n",
    "# Filter the words to get only hashtags, then map each hashtag to be a pair of (hashtag,1)\n",
    "hashtags_tuple = hashtags.map(lambda x: (x, 1))\n",
    "hashtags_tuple.take(10)"
   ]
  },
  {
   "cell_type": "code",
   "execution_count": null,
   "metadata": {
    "colab": {
     "base_uri": "https://localhost:8080/"
    },
    "id": "wyyuyp8sbiHK",
    "outputId": "7e8e9522-4b99-4374-86da-5072a455cd02"
   },
   "outputs": [
    {
     "data": {
      "text/plain": [
       "[('#Trump2016', 695),\n",
       " ('#MAGA', 436),\n",
       " ('#MakeAmericaGreatAgain', 392),\n",
       " ('#CelebApprentice', 283),\n",
       " ('#1', 136),\n",
       " ('#CelebrityApprentice', 131),\n",
       " ('#TimeToGetTough', 95),\n",
       " ('#AmericaFirst', 76),\n",
       " ('#Trump', 74),\n",
       " ('#Trump2016https', 66)]"
      ]
     },
     "execution_count": 17,
     "metadata": {},
     "output_type": "execute_result"
    }
   ],
   "source": [
    "## Top 10 Hashtags (#)\n",
    "\n",
    "hashtags_count = hashtags_tuple.reduceByKey(lambda x,y : x+y).sortBy(lambda tuple: tuple[1], ascending=False)\n",
    "hashtags_count.take(10)"
   ]
  },
  {
   "cell_type": "code",
   "execution_count": null,
   "metadata": {
    "colab": {
     "base_uri": "https://localhost:8080/"
    },
    "id": "BkNwciwKblSR",
    "outputId": "b9669c71-4574-49d0-dd86-f8d7b2869dea"
   },
   "outputs": [
    {
     "data": {
      "text/plain": [
       "[('@CBS_Herridge', 1),\n",
       " ('@MZHemingway', 1),\n",
       " ('@WhiteHouse', 1),\n",
       " ('@realDonaldTrump', 1),\n",
       " ('@EricTrump', 1),\n",
       " ('@GOPChairwoman', 1),\n",
       " ('@realDonaldTrump', 1),\n",
       " ('@TomFitton', 1),\n",
       " ('@RealDonaldTrump', 1),\n",
       " ('@marklevinshow', 1)]"
      ]
     },
     "execution_count": 18,
     "metadata": {},
     "output_type": "execute_result"
    }
   ],
   "source": [
    "## Filter the words to get only references\n",
    "references = words.filter(lambda w: '@' in w)\n",
    "\n",
    "# Map each reference to be a pair of (reference,1)\n",
    "references_tuple = references.map(lambda x: (x, 1))\n",
    "references_tuple.take(10)"
   ]
  },
  {
   "cell_type": "code",
   "execution_count": null,
   "metadata": {
    "colab": {
     "base_uri": "https://localhost:8080/"
    },
    "id": "n84J1iNJbpjo",
    "outputId": "c7bc8048-937b-4bac-c10d-2e960b57b3ff"
   },
   "outputs": [
    {
     "data": {
      "text/plain": [
       "[('@realDonaldTrump', 10486),\n",
       " ('@FoxNews', 876),\n",
       " ('@WhiteHouse', 793),\n",
       " ('@foxandfriends', 690),\n",
       " ('@BarackObama', 563),\n",
       " ('@CNN', 377),\n",
       " ('@ApprenticeNBC', 364),\n",
       " ('@TeamTrump', 294),\n",
       " ('@IvankaTrump', 288),\n",
       " ('@seanhannity', 266)]"
      ]
     },
     "execution_count": 19,
     "metadata": {},
     "output_type": "execute_result"
    }
   ],
   "source": [
    "## Top 10 references (@)\n",
    "\n",
    "references_count = references_tuple.reduceByKey(lambda x,y : x+y).sortBy(lambda tuple: tuple[1], ascending=False)\n",
    "references_count.take(10)"
   ]
  },
  {
   "cell_type": "code",
   "execution_count": null,
   "metadata": {
    "colab": {
     "base_uri": "https://localhost:8080/"
    },
    "id": "sP_lReDIbrp9",
    "outputId": "d1b23703-583b-461b-9564-adfde89a0545"
   },
   "outputs": [
    {
     "data": {
      "text/plain": [
       "[('republicans', 1),\n",
       " ('and', 1),\n",
       " ('democrats', 1),\n",
       " ('have', 1),\n",
       " ('both', 1),\n",
       " ('created', 1),\n",
       " ('our', 1),\n",
       " ('economic', 1),\n",
       " ('problems', 1),\n",
       " ('02/08/2011', 1)]"
      ]
     },
     "execution_count": 20,
     "metadata": {},
     "output_type": "execute_result"
    }
   ],
   "source": [
    "## Initialize an rdd with key/value for counting each word in the cleaned RDD \n",
    "\n",
    "# Add the count to the word as a tuple\n",
    "rdd_tweets_words_kv = rdd_tweets_words_lower.map(lambda word: (word, 1))\n",
    "\n",
    "rdd_tweets_words_kv.take(10)"
   ]
  },
  {
   "cell_type": "code",
   "execution_count": null,
   "metadata": {
    "colab": {
     "base_uri": "https://localhost:8080/"
    },
    "id": "h1PRm9Ombwgd",
    "outputId": "c4e2e182-9cbc-49e5-fca6-ab897e6901d7"
   },
   "outputs": [
    {
     "data": {
      "text/plain": [
       "[('a+', 1), ('abound', 1), ('abounds', 1), ('abundance', 1), ('abundant', 1)]"
      ]
     },
     "execution_count": 22,
     "metadata": {},
     "output_type": "execute_result"
    }
   ],
   "source": [
    "## Read the positive words file\n",
    "\n",
    "rdd_positive_words = sc.textFile('/content/gdrive/MyDrive/Spark_trump/positive-words.txt')\n",
    "\n",
    "# Initialize an rdd with key/value for counting each positive word in the file \n",
    "\n",
    "rdd_positive_words_kv = rdd_positive_words.map(lambda word: (word, 1))\n",
    "\n",
    "rdd_positive_words_kv.take(5)"
   ]
  },
  {
   "cell_type": "code",
   "execution_count": null,
   "metadata": {
    "colab": {
     "base_uri": "https://localhost:8080/"
    },
    "id": "PtAJ9aHbb8Eb",
    "outputId": "f271c842-b85f-4634-de8e-0dd205f6a1e7"
   },
   "outputs": [
    {
     "data": {
      "text/plain": [
       "[('thrilled', 51),\n",
       " ('wonderful', 482),\n",
       " ('right', 897),\n",
       " ('sustainable', 3),\n",
       " ('best', 1236)]"
      ]
     },
     "execution_count": 23,
     "metadata": {},
     "output_type": "execute_result"
    }
   ],
   "source": [
    "## Join the cleaned word list with the positive word list\n",
    "# Use the mapValues transformation to assign a default count of 1 for each positive word\n",
    "\n",
    "rdd_positive_words_tweets_kv = rdd_tweets_words_kv.join(rdd_positive_words_kv).mapValues(lambda tuple: 1)\n",
    "\n",
    "## Count the number of occurences of each positive word in tweets\n",
    "\n",
    "rdd_positive_words_tweets_count_kv = rdd_positive_words_tweets_kv.reduceByKey(lambda x,y : x+y)\n",
    "\n",
    "rdd_positive_words_tweets_count_kv.take(5)"
   ]
  },
  {
   "cell_type": "code",
   "execution_count": null,
   "metadata": {
    "colab": {
     "base_uri": "https://localhost:8080/"
    },
    "id": "-UNiZlW5cfUE",
    "outputId": "827da1c4-38a0-4eaf-8bf3-32844c4d0222"
   },
   "outputs": [
    {
     "data": {
      "text/plain": [
       "[('great', 7413),\n",
       " ('trump', 5898),\n",
       " ('thank', 3516),\n",
       " ('like', 1992),\n",
       " ('good', 1810),\n",
       " ('best', 1236),\n",
       " ('love', 1151),\n",
       " ('win', 1071),\n",
       " ('work', 983),\n",
       " ('right', 897),\n",
       " ('better', 840),\n",
       " ('well', 733),\n",
       " ('strong', 725),\n",
       " ('support', 661),\n",
       " ('amazing', 643),\n",
       " ('congratulations', 598),\n",
       " ('happy', 579),\n",
       " ('nice', 563),\n",
       " ('honor', 499),\n",
       " ('wow', 497),\n",
       " ('wonderful', 482),\n",
       " ('endorsement', 460),\n",
       " ('enjoy', 449),\n",
       " ('beautiful', 436),\n",
       " ('fantastic', 419)]"
      ]
     },
     "execution_count": 24,
     "metadata": {},
     "output_type": "execute_result"
    }
   ],
   "source": [
    "## Top 25 Positive Words\n",
    "\n",
    "rdd_positive_words_tweets_count_kv_ordered = rdd_positive_words_tweets_count_kv.sortBy(lambda tuple: tuple[1], ascending=False)\n",
    "\n",
    "list_top_positives_opinion = rdd_positive_words_tweets_count_kv_ordered.take(25)\n",
    "list_top_positives_opinion"
   ]
  },
  {
   "cell_type": "code",
   "execution_count": null,
   "metadata": {
    "colab": {
     "base_uri": "https://localhost:8080/"
    },
    "id": "lhQdE28JckJX",
    "outputId": "6b25dfe8-de70-4747-c997-46654934db1f"
   },
   "outputs": [
    {
     "data": {
      "text/plain": [
       "[('2-faced', 1),\n",
       " ('2-faces', 1),\n",
       " ('abnormal', 1),\n",
       " ('abolish', 1),\n",
       " ('abominable', 1)]"
      ]
     },
     "execution_count": 25,
     "metadata": {},
     "output_type": "execute_result"
    }
   ],
   "source": [
    "## Read the positive words file\n",
    "\n",
    "rdd_negative_words = sc.textFile('/content/gdrive/MyDrive/Spark_trump/negative-words.txt')\n",
    "\n",
    "# initialize an rdd with key/value for counting each negative word in the file \n",
    "\n",
    "rdd_negative_words_kv = rdd_negative_words.map(lambda word: (word, 1))\n",
    "\n",
    "rdd_negative_words_kv.take(5)"
   ]
  },
  {
   "cell_type": "code",
   "execution_count": null,
   "metadata": {
    "colab": {
     "base_uri": "https://localhost:8080/"
    },
    "id": "Fog3O9mYcv8o",
    "outputId": "861786a5-5315-4648-fc07-f8d553d29cf4"
   },
   "outputs": [
    {
     "data": {
      "text/plain": [
       "[('threat', 1), ('threat', 1), ('threat', 1), ('threat', 1), ('threat', 1)]"
      ]
     },
     "execution_count": 26,
     "metadata": {},
     "output_type": "execute_result"
    }
   ],
   "source": [
    "## Join the cleaned word list with the negative word list\n",
    "# Use the mapValues transformation to assign a default count of 1 for each negative word\n",
    "\n",
    "rdd_negative_words_tweets_kv = rdd_tweets_words_kv.join(rdd_negative_words_kv).mapValues(lambda tuple:1)\n",
    "\n",
    "rdd_negative_words_tweets_kv.take(5)"
   ]
  },
  {
   "cell_type": "code",
   "execution_count": null,
   "metadata": {
    "colab": {
     "base_uri": "https://localhost:8080/"
    },
    "id": "edp3A2oVczIq",
    "outputId": "dd795542-1289-4851-9595-a25dfeaf4a2a"
   },
   "outputs": [
    {
     "data": {
      "text/plain": [
       "[('threat', 84),\n",
       " ('disaster', 298),\n",
       " ('fraud', 196),\n",
       " ('worse', 231),\n",
       " ('dishonest', 205)]"
      ]
     },
     "execution_count": 27,
     "metadata": {},
     "output_type": "execute_result"
    }
   ],
   "source": [
    "## Count the number of occurences of each negative word in tweets\n",
    "\n",
    "rdd_negative_words_tweets_count_kv = rdd_negative_words_tweets_kv.reduceByKey(lambda x,y: x+y)\n",
    "\n",
    "rdd_negative_words_tweets_count_kv.take(5)"
   ]
  },
  {
   "cell_type": "code",
   "execution_count": null,
   "metadata": {
    "colab": {
     "base_uri": "https://localhost:8080/"
    },
    "id": "8cP8xA0qc2RC",
    "outputId": "fdd1fbe8-3244-4414-e541-3dea65aa8ae3"
   },
   "outputs": [
    {
     "data": {
      "text/plain": [
       "[('fake', 1210),\n",
       " ('bad', 987),\n",
       " ('hard', 746),\n",
       " ('crime', 541),\n",
       " ('crooked', 445),\n",
       " ('wrong', 435),\n",
       " ('illegal', 414),\n",
       " ('radical', 385),\n",
       " ('terrible', 378),\n",
       " ('lost', 363),\n",
       " ('corrupt', 351),\n",
       " ('sad', 330),\n",
       " ('collusion', 330),\n",
       " ('disaster', 298),\n",
       " ('crazy', 288),\n",
       " ('problem', 286),\n",
       " ('hoax', 283),\n",
       " ('attack', 276),\n",
       " ('miss', 276),\n",
       " ('failed', 267),\n",
       " ('badly', 256),\n",
       " ('failing', 254),\n",
       " ('worst', 253),\n",
       " ('weak', 233),\n",
       " ('worse', 231)]"
      ]
     },
     "execution_count": 28,
     "metadata": {},
     "output_type": "execute_result"
    }
   ],
   "source": [
    "## Top 25 Negative Words\n",
    "\n",
    "rdd_negative_words_tweets_count_kv_ordered = rdd_negative_words_tweets_count_kv.sortBy(lambda tuple: tuple[1], ascending=False)\n",
    "\n",
    "list_top_negatives_opinion = rdd_negative_words_tweets_count_kv_ordered.take(25)\n",
    "\n",
    "list_top_negatives_opinion"
   ]
  },
  {
   "cell_type": "code",
   "execution_count": null,
   "metadata": {
    "id": "mAGjZiXsc3QJ"
   },
   "outputs": [],
   "source": [
    "## Create a function for plotting a bar chart presenting top positives and top negatives words\n",
    "\n",
    "\n",
    "from matplotlib import pyplot as plt\n",
    "import seaborn as sb\n",
    "\n",
    "import pandas as pd\n",
    "\n",
    "def plot_opinion(list_positives, list_negatives):\n",
    "    \n",
    "    list_1 = [(t[0], t[1], 'positive') for t in list_positives]\n",
    "    list_2 = [(t[0], t[1], 'negative') for t in list_negatives]\n",
    "    \n",
    "     \n",
    "    list_1.extend(list_2)\n",
    "    \n",
    "    \n",
    "    pd_df = pd.DataFrame({\n",
    "     'Opinion': [ t[0] for t in list_1 ], # column for words\n",
    "     'Count': [ t[1] for t in list_1 ],   # column for no. of count\n",
    "     'polarity': [ t[2] for t in list_1 ] # column for the polarity of the word, i.e. positive/ negative\n",
    "    }).sort_values('Count', ascending=False)\n",
    "    \n",
    "    pd_df['color'] = pd_df.polarity.apply(lambda polarity: 'green' if polarity=='positive' else 'red')\n",
    "    \n",
    "    plt.figure( figsize = (15, 8) )\n",
    "    chart=sb.barplot(data=pd_df, x='Opinion', y='Count', hue='polarity', palette=[\"green\", \"red\"], order=pd_df['Opinion'])\n",
    "    chart.set_xticklabels(\n",
    "    chart.get_xticklabels(), \n",
    "    rotation=80, \n",
    "    horizontalalignment='right',\n",
    "    fontweight='light',\n",
    "    fontsize='x-large',\n",
    "    )\n",
    "    \n",
    "    for tick, color in zip(chart.get_xticklabels(), pd_df['color']): \n",
    "        tick.set_color(color)\n",
    "    \n",
    "    plt.show()"
   ]
  },
  {
   "cell_type": "code",
   "execution_count": null,
   "metadata": {
    "colab": {
     "base_uri": "https://localhost:8080/",
     "height": 600
    },
    "id": "aIxbxye1c6Qo",
    "outputId": "8f55317f-1652-4e51-93a5-7b17bf53b2df"
   },
   "outputs": [
    {
     "data": {
      "image/png": "[encoded data removed]",
      "text/plain": [
       "<Figure size 1080x576 with 1 Axes>"
      ]
     },
     "metadata": {
      "needs_background": "light"
     },
     "output_type": "display_data"
    }
   ],
   "source": [
    "plot_opinion(list_top_positives_opinion, list_top_negatives_opinion)"
   ]
  },
  {
   "cell_type": "code",
   "execution_count": null,
   "metadata": {
    "colab": {
     "base_uri": "https://localhost:8080/"
    },
    "id": "BnibMh3bc_5q",
    "outputId": "9eb1902a-a769-4509-dfa2-3cbd952ed172"
   },
   "outputs": [
    {
     "name": "stdout",
     "output_type": "stream",
     "text": [
      "The sentiment score is :  25362\n"
     ]
    }
   ],
   "source": [
    "## Compute the global sentiment score\n",
    "\n",
    "# sentiment score = count of positive words used - count of negative words used\n",
    "sentiment_score = rdd_positive_words_tweets_count_kv.map(lambda tuple: tuple[1]).sum()\\\n",
    "                  - rdd_negative_words_tweets_count_kv.map(lambda tuple: tuple[1]).sum()\n",
    "\n",
    "print('The sentiment score is : ',sentiment_score)"
   ]
  },
  {
   "cell_type": "code",
   "execution_count": null,
   "metadata": {
    "colab": {
     "base_uri": "https://localhost:8080/"
    },
    "id": "PovNXbwRdC5U",
    "outputId": "ce0132a8-d31d-4b46-cff5-7b36ca4c5c5c"
   },
   "outputs": [
    {
     "data": {
      "text/plain": [
       "['a', 'about', 'above', 'across', 'after']"
      ]
     },
     "execution_count": 33,
     "metadata": {},
     "output_type": "execute_result"
    }
   ],
   "source": [
    "## Read the stop words file\n",
    "\n",
    "# We have added extra stop words, refer to the 'stop-words.txt'\n",
    "rdd_stop_words = sc.textFile('/content/gdrive/MyDrive/Spark_trump/stop-words.txt')\n",
    "\n",
    "rdd_stop_words.take(5)"
   ]
  },
  {
   "cell_type": "code",
   "execution_count": null,
   "metadata": {
    "colab": {
     "base_uri": "https://localhost:8080/"
    },
    "id": "L-tr4aMPdGAg",
    "outputId": "4724ca06-c9b9-4de7-d674-553d2ebc72fb"
   },
   "outputs": [
    {
     "data": {
      "text/plain": [
       "['&amp', '&amp', '&amp', '&amp', '&amp']"
      ]
     },
     "execution_count": 34,
     "metadata": {},
     "output_type": "execute_result"
    }
   ],
   "source": [
    "## Get the contextual words\n",
    "\n",
    "# contextual words = all words in the tweets - positive words - negative words - stop words - references(@) - hashtags(#)\n",
    "contextual_words = rdd_tweets_words_lower.subtract(rdd_positive_words).subtract(rdd_negative_words).subtract(rdd_stop_words)\\\n",
    "                    .subtract(references).subtract(hashtags)\n",
    "contextual_words.take(5)"
   ]
  },
  {
   "cell_type": "code",
   "execution_count": null,
   "metadata": {
    "colab": {
     "base_uri": "https://localhost:8080/"
    },
    "id": "pBaEIGkfdPcE",
    "outputId": "4c60b5b6-6ec3-4637-ccee-eabad0612920"
   },
   "outputs": [
    {
     "data": {
      "text/plain": [
       "[('rt', 9799),\n",
       " ('&amp', 5460),\n",
       " ('president', 4325),\n",
       " ('people', 3287),\n",
       " ('just', 3284),\n",
       " ('new', 2466),\n",
       " ('country', 2159),\n",
       " ('america', 2109),\n",
       " ('big', 2039),\n",
       " ('thanks', 1875),\n",
       " ('make', 1835),\n",
       " ('donald', 1834),\n",
       " ('time', 1831),\n",
       " ('news', 1742),\n",
       " ('democrats', 1680),\n",
       " ('obama', 1621),\n",
       " ('vote', 1619),\n",
       " ('today', 1574),\n",
       " ('going', 1509),\n",
       " ('want', 1395),\n",
       " ('american', 1389),\n",
       " ('job', 1224),\n",
       " ('years', 1216),\n",
       " ('run', 1209),\n",
       " ('need', 1201),\n",
       " ('doing', 1134),\n",
       " ('u.s', 1121),\n",
       " ('think', 1111),\n",
       " ('china', 1104),\n",
       " ('media', 1100),\n",
       " ('really', 1083),\n",
       " ('did', 1071),\n",
       " ('way', 1067),\n",
       " ('know', 1059),\n",
       " ('day', 1040),\n",
       " ('house', 1021),\n",
       " ('jobs', 997),\n",
       " ('said', 985),\n",
       " ('border', 946),\n",
       " ('true', 943),\n",
       " ('states', 941),\n",
       " ('state', 934),\n",
       " ('election', 916),\n",
       " ('deal', 909),\n",
       " (\"don't\", 904),\n",
       " ('biden', 900),\n",
       " ('world', 898),\n",
       " ('hillary', 887),\n",
       " ('tonight', 886),\n",
       " ('watch', 873)]"
      ]
     },
     "execution_count": 35,
     "metadata": {},
     "output_type": "execute_result"
    }
   ],
   "source": [
    "## Top 50 Hot Topics / Contextual Words\n",
    "\n",
    "contextual_words_count_ordered = contextual_words.map(lambda word: (word, 1))\\\n",
    "                                                 .reduceByKey(lambda x,y : x+y)\\\n",
    "                                                 .sortBy(lambda tuple: tuple[1], ascending=False)\n",
    "\n",
    "list_top_contextual_words = contextual_words_count_ordered.take(50)  \n",
    "\n",
    "list_top_contextual_words"
   ]
  },
  {
   "cell_type": "code",
   "execution_count": null,
   "metadata": {
    "id": "UobFnLzydY5B"
   },
   "outputs": [],
   "source": [
    "## Create a function for plotting a bar chart of the Top 50 Contextual Words\n",
    "\n",
    "def plot_contextual_words(list_contextual_words):\n",
    "    \n",
    "    pd_df = pd.DataFrame({\n",
    "        'Word':  [ t[0] for t in list_contextual_words ],\n",
    "        'Count': [ t[1] for t in list_contextual_words ]\n",
    "    }).sort_values('Count', ascending=False)\n",
    "    \n",
    "    plt.figure( figsize = (15, 8) )\n",
    "    \n",
    "    chart=sb.barplot(data=pd_df, x='Word', y='Count', order=pd_df['Word'], color='blue')\n",
    "    \n",
    "    chart.set_xticklabels(\n",
    "        chart.get_xticklabels(), \n",
    "        rotation=80, \n",
    "        horizontalalignment='right',\n",
    "        fontweight='light',\n",
    "        fontsize='x-large',\n",
    "        )\n",
    "    \n",
    "    plt.show()"
   ]
  },
  {
   "cell_type": "code",
   "execution_count": null,
   "metadata": {
    "colab": {
     "base_uri": "https://localhost:8080/",
     "height": 564
    },
    "id": "1W_z5TJcdbft",
    "outputId": "23c71d3d-5bac-4a72-826c-c6182fabd0bf"
   },
   "outputs": [
    {
     "data": {
      "image/png": "[encoded data removed]",
      "text/plain": [
       "<Figure size 1080x576 with 1 Axes>"
      ]
     },
     "metadata": {
      "needs_background": "light"
     },
     "output_type": "display_data"
    }
   ],
   "source": [
    "## Plot of Top 50 Contextual Words in Donald Trump's tweets\n",
    "\n",
    "plot_contextual_words(list_top_contextual_words)"
   ]
  },
  {
   "cell_type": "code",
   "execution_count": null,
   "metadata": {
    "id": "6cjgATGKde7m"
   },
   "outputs": [],
   "source": [
    "# Filter the Original tweets\n",
    "rdd_original_tweets  = rdd_tweets.filter(lambda line: \"RT\" not in line)\n",
    "\n",
    "# Filter the Retweets\n",
    "\n",
    "rdd_retweets = rdd_tweets.filter(lambda line: \"RT\" in line)"
   ]
  },
  {
   "cell_type": "code",
   "execution_count": null,
   "metadata": {
    "colab": {
     "base_uri": "https://localhost:8080/"
    },
    "id": "hLVWPk-1dh2g",
    "outputId": "1287ca2c-eeb9-4735-97b3-53e0067fec82"
   },
   "outputs": [
    {
     "data": {
      "text/plain": [
       "48618"
      ]
     },
     "execution_count": 39,
     "metadata": {},
     "output_type": "execute_result"
    }
   ],
   "source": [
    "# Number of original tweets\n",
    "\n",
    "number_of_ot = rdd_original_tweets.count()\n",
    "number_of_ot"
   ]
  },
  {
   "cell_type": "code",
   "execution_count": null,
   "metadata": {
    "colab": {
     "base_uri": "https://localhost:8080/"
    },
    "id": "OyfsFaJpdkc2",
    "outputId": "9ee8105b-e21e-49c1-ff7a-9fd7c26ed7bf"
   },
   "outputs": [
    {
     "data": {
      "text/plain": [
       "10063"
      ]
     },
     "execution_count": 40,
     "metadata": {},
     "output_type": "execute_result"
    }
   ],
   "source": [
    "# Number of retweets\n",
    "\n",
    "number_of_rt = rdd_retweets.count()\n",
    "number_of_rt"
   ]
  },
  {
   "cell_type": "code",
   "execution_count": null,
   "metadata": {
    "colab": {
     "base_uri": "https://localhost:8080/"
    },
    "id": "qJi4KqrcdnyZ",
    "outputId": "c3a7c6cc-963f-4efa-fb01-fbba572dbf71"
   },
   "outputs": [
    {
     "name": "stdout",
     "output_type": "stream",
     "text": [
      "The ratio of original tweet to retweet is : 4.831362416774322\n",
      "For every retweet , there are 4 original tweets\n"
     ]
    }
   ],
   "source": [
    "# The ratio of original tweet to retweet\n",
    "\n",
    "import math\n",
    "\n",
    "ratio_of_retweet = number_of_ot / number_of_rt\n",
    "print (f'The ratio of original tweet to retweet is : {ratio_of_retweet}')\n",
    "print (f'For every retweet , there are {math.trunc(ratio_of_retweet)} original tweets' )"
   ]
  },
  {
   "cell_type": "code",
   "execution_count": null,
   "metadata": {
    "colab": {
     "base_uri": "https://localhost:8080/"
    },
    "id": "0rfymzIudrW7",
    "outputId": "ac5e1d88-1527-4007-cd5d-fc5edbedd16a"
   },
   "outputs": [
    {
     "data": {
      "text/plain": [
       "[('#Trump2016', 681),\n",
       " ('#MakeAmericaGreatAgain', 378),\n",
       " ('#MAGA', 367),\n",
       " ('#CelebApprentice', 282),\n",
       " ('#CelebrityApprentice', 131),\n",
       " ('#1', 130),\n",
       " ('#TimeToGetTough', 95),\n",
       " ('#Trump2016https', 65),\n",
       " ('#VoteTrump', 64),\n",
       " ('#AmericaFirst', 64)]"
      ]
     },
     "execution_count": 42,
     "metadata": {},
     "output_type": "execute_result"
    }
   ],
   "source": [
    "# Split each tweet into words\n",
    "words_ot = rdd_original_tweets.flatMap(lambda word:re.split(',| |\\[|\\]|,|:|;|\\.|\\\"', word.strip())).flatMap(lambda line: line.split(' '))\n",
    "\n",
    "# Filter the words to get only hashtags, then map each hashtag to be a pair of (hashtag,1)\n",
    "hashtags_ot = words_ot.filter(lambda w: '#' in w).map(lambda x: (x, 1))\n",
    "\n",
    "## Top 10 Hashtags of Original tweets\n",
    "hashtags_ot_count = hashtags_ot.reduceByKey(lambda x,y : x+y).sortBy(lambda tuple: tuple[1], ascending=False)\n",
    "hashtags_ot_count.take(10)"
   ]
  },
  {
   "cell_type": "code",
   "execution_count": null,
   "metadata": {
    "colab": {
     "base_uri": "https://localhost:8080/"
    },
    "id": "-n3srSxiduq6",
    "outputId": "fceaa1b9-f2ae-43e1-841c-60f7754f6b9a"
   },
   "outputs": [
    {
     "data": {
      "text/plain": [
       "[('@realDonaldTrump', 8104),\n",
       " ('@FoxNews', 785),\n",
       " ('@foxandfriends', 605),\n",
       " ('@BarackObama', 556),\n",
       " ('@ApprenticeNBC', 359),\n",
       " ('@CNN', 356),\n",
       " ('@MittRomney', 261),\n",
       " ('@seanhannity', 188),\n",
       " ('@nytimes', 181),\n",
       " ('@IvankaTrump', 154)]"
      ]
     },
     "execution_count": 43,
     "metadata": {},
     "output_type": "execute_result"
    }
   ],
   "source": [
    "# Filter the words to get only references, then map each reference to be a pair of (reference,1)\n",
    "references_ot = words_ot.filter(lambda w: '@' in w).map(lambda x: (x, 1))\n",
    "\n",
    "## Top 10 references of Original tweets\n",
    "references_ot_count = references_ot.reduceByKey(lambda x,y : x+y).sortBy(lambda tuple: tuple[1], ascending=False)\n",
    "references_ot_count.take(10)"
   ]
  },
  {
   "cell_type": "code",
   "execution_count": null,
   "metadata": {
    "colab": {
     "base_uri": "https://localhost:8080/"
    },
    "id": "bC9gNFAFdyqN",
    "outputId": "47636b29-7eb6-482b-f233-fcfc0446fd8d"
   },
   "outputs": [
    {
     "data": {
      "text/plain": [
       "['republicans',\n",
       " 'and',\n",
       " 'democrats',\n",
       " 'have',\n",
       " 'both',\n",
       " 'created',\n",
       " 'our',\n",
       " 'economic',\n",
       " 'problems',\n",
       " '02/08/2011']"
      ]
     },
     "execution_count": 44,
     "metadata": {},
     "output_type": "execute_result"
    }
   ],
   "source": [
    "# Split the original tweets into a word list and filter the punctuation\n",
    "\n",
    "rdd_original_tweets_words = rdd_original_tweets.flatMap(split_with_multiple_separator).filter(lambda word: word!='' and word!='”' and word!='.')\n",
    "\n",
    "# Delete \"https\" contents of the original tweets\n",
    "\n",
    "rdd_original_tweets_words = rdd_original_tweets_words.filter(lambda line: delhttps(line) != 1)\n",
    "\n",
    "# Transform all the words into lowercase\n",
    "rdd_original_tweets_words_lower = rdd_original_tweets_words.flatMap(lambda word:word.lower().split())\n",
    "rdd_original_tweets_words_lower.take(10)"
   ]
  },
  {
   "cell_type": "code",
   "execution_count": null,
   "metadata": {
    "colab": {
     "base_uri": "https://localhost:8080/"
    },
    "id": "Efsad4qzd1NM",
    "outputId": "bf4e80b2-fb92-486a-e709-5eb8432f5034"
   },
   "outputs": [
    {
     "data": {
      "text/plain": [
       "[('republicans', 1),\n",
       " ('and', 1),\n",
       " ('democrats', 1),\n",
       " ('have', 1),\n",
       " ('both', 1),\n",
       " ('created', 1),\n",
       " ('our', 1),\n",
       " ('economic', 1),\n",
       " ('problems', 1),\n",
       " ('02/08/2011', 1)]"
      ]
     },
     "execution_count": 45,
     "metadata": {},
     "output_type": "execute_result"
    }
   ],
   "source": [
    "# Initialize an rdd with key/value for counting each word in the original tweets \n",
    "\n",
    "rdd_original_tweets_words_kv = rdd_original_tweets_words_lower.map(lambda word: (word, 1))\n",
    "\n",
    "rdd_original_tweets_words_kv.take(10)"
   ]
  },
  {
   "cell_type": "code",
   "execution_count": null,
   "metadata": {
    "colab": {
     "base_uri": "https://localhost:8080/"
    },
    "id": "VzlM4DTPd4H5",
    "outputId": "b81d3453-0aeb-4d8c-ab55-6c97cbe82195"
   },
   "outputs": [
    {
     "data": {
      "text/plain": [
       "[('thrilled', 46),\n",
       " ('wonderful', 462),\n",
       " ('sustainable', 3),\n",
       " ('best', 1129),\n",
       " ('like', 1808)]"
      ]
     },
     "execution_count": 46,
     "metadata": {},
     "output_type": "execute_result"
    }
   ],
   "source": [
    "## Join the cleaned word list with the positive word list\n",
    "# Use the mapValues transformation to assign a default count of 1 for each positive word\n",
    "\n",
    "rdd_positive_words_ot_kv = rdd_original_tweets_words_kv.join(rdd_positive_words_kv).mapValues(lambda tuple: 1)\n",
    "\n",
    "## Count the number of occurences of each positive word in original tweets\n",
    "\n",
    "rdd_positive_words_ot_count_kv = rdd_positive_words_ot_kv.reduceByKey(lambda x,y : x+y)\n",
    "\n",
    "rdd_positive_words_ot_count_kv.take(5)"
   ]
  },
  {
   "cell_type": "code",
   "execution_count": null,
   "metadata": {
    "colab": {
     "base_uri": "https://localhost:8080/"
    },
    "id": "zfZKBdMcd5FD",
    "outputId": "8c5c06e5-682b-4d44-c43a-ef4a56f576db"
   },
   "outputs": [
    {
     "data": {
      "text/plain": [
       "[('great', 6998),\n",
       " ('trump', 4868),\n",
       " ('thank', 3237),\n",
       " ('like', 1808),\n",
       " ('good', 1693),\n",
       " ('best', 1129),\n",
       " ('love', 1066),\n",
       " ('win', 980),\n",
       " ('work', 869),\n",
       " ('better', 777),\n",
       " ('right', 765),\n",
       " ('well', 679),\n",
       " ('strong', 641),\n",
       " ('amazing', 589),\n",
       " ('nice', 550),\n",
       " ('congratulations', 549),\n",
       " ('happy', 512),\n",
       " ('support', 505),\n",
       " ('wonderful', 462),\n",
       " ('wow', 450),\n",
       " ('endorsement', 442),\n",
       " ('honor', 436),\n",
       " ('enjoy', 427),\n",
       " ('beautiful', 412),\n",
       " ('fantastic', 398)]"
      ]
     },
     "execution_count": 47,
     "metadata": {},
     "output_type": "execute_result"
    }
   ],
   "source": [
    "## Top 25 positive words of original tweets\n",
    "\n",
    "rdd_positive_words_ot_count_kv_ordered = rdd_positive_words_ot_count_kv.sortBy(lambda tuple: tuple[1], ascending=False)\n",
    "\n",
    "list_top_positives_opinion_ot = rdd_positive_words_ot_count_kv_ordered.take(25)\n",
    "\n",
    "list_top_positives_opinion_ot"
   ]
  },
  {
   "cell_type": "code",
   "execution_count": null,
   "metadata": {
    "colab": {
     "base_uri": "https://localhost:8080/"
    },
    "id": "ZBwF9Cusd7Mx",
    "outputId": "c27bffd0-1bbe-4299-c896-b31c5fd8e1c8"
   },
   "outputs": [
    {
     "data": {
      "text/plain": [
       "[('threat', 64),\n",
       " ('disaster', 279),\n",
       " ('fraud', 150),\n",
       " ('worse', 212),\n",
       " ('dishonest', 197)]"
      ]
     },
     "execution_count": 48,
     "metadata": {},
     "output_type": "execute_result"
    }
   ],
   "source": [
    "## Join the cleaned word list with the negative word list\n",
    "# Use the mapValues transformation to assign a default count of 1 for each negative word\n",
    "\n",
    "rdd_negative_words_ot_kv = rdd_original_tweets_words_kv.join(rdd_negative_words_kv).mapValues(lambda tuple:1)\n",
    "\n",
    "## Count the number of occurences of each negative word in tweets\n",
    "\n",
    "rdd_negative_words_ot_count_kv = rdd_negative_words_ot_kv.reduceByKey(lambda x,y: x+y)\n",
    "\n",
    "rdd_negative_words_ot_count_kv.take(5)"
   ]
  },
  {
   "cell_type": "code",
   "execution_count": null,
   "metadata": {
    "colab": {
     "base_uri": "https://localhost:8080/"
    },
    "id": "VvIZ-DuzeBXC",
    "outputId": "8ed82123-56b7-4850-bc52-0360e50833a8"
   },
   "outputs": [
    {
     "data": {
      "text/plain": [
       "[('fake', 1118),\n",
       " ('bad', 942),\n",
       " ('hard', 685),\n",
       " ('crime', 491),\n",
       " ('crooked', 430),\n",
       " ('wrong', 393),\n",
       " ('illegal', 365),\n",
       " ('terrible', 356),\n",
       " ('lost', 328),\n",
       " ('radical', 320),\n",
       " ('corrupt', 315),\n",
       " ('sad', 312),\n",
       " ('disaster', 279),\n",
       " ('collusion', 268),\n",
       " ('miss', 262),\n",
       " ('crazy', 261),\n",
       " ('problem', 260),\n",
       " ('failing', 246),\n",
       " ('badly', 244),\n",
       " ('hoax', 236),\n",
       " ('worst', 232),\n",
       " ('attack', 232),\n",
       " ('failed', 231),\n",
       " ('weak', 221),\n",
       " ('phony', 213)]"
      ]
     },
     "execution_count": 49,
     "metadata": {},
     "output_type": "execute_result"
    }
   ],
   "source": [
    "## Top 25 negative words of original tweets\n",
    "rdd_negative_words_ot_count_kv_ordered = rdd_negative_words_ot_count_kv.sortBy(lambda tuple: tuple[1], ascending=False)\n",
    "\n",
    "list_top_negatives_opinion_ot = rdd_negative_words_ot_count_kv_ordered.take(25)\n",
    "\n",
    "list_top_negatives_opinion_ot"
   ]
  },
  {
   "cell_type": "code",
   "execution_count": null,
   "metadata": {
    "colab": {
     "base_uri": "https://localhost:8080/",
     "height": 600
    },
    "id": "yLZniNcLeE8L",
    "outputId": "1d9d7540-2632-479c-d411-31f9874a9bb8"
   },
   "outputs": [
    {
     "data": {
      "image/png": "[encoded data removed]",
      "text/plain": [
       "<Figure size 1080x576 with 1 Axes>"
      ]
     },
     "metadata": {
      "needs_background": "light"
     },
     "output_type": "display_data"
    }
   ],
   "source": [
    "## Plot of top positives and negatives words in Donald Trump's original tweets\n",
    "\n",
    "plot_opinion(list_top_positives_opinion_ot, list_top_negatives_opinion_ot)"
   ]
  },
  {
   "cell_type": "code",
   "execution_count": null,
   "metadata": {
    "colab": {
     "base_uri": "https://localhost:8080/"
    },
    "id": "-z1Ffxb2eI1p",
    "outputId": "1ab5a05d-05b1-4819-f8f8-3b42457e1d09"
   },
   "outputs": [
    {
     "name": "stdout",
     "output_type": "stream",
     "text": [
      "The sentiment score is :  23496\n"
     ]
    }
   ],
   "source": [
    "## Compute the global sentiment score\n",
    "\n",
    "# sentiment score = count of positive words used - count of negative words used\n",
    "sentiment_score_ot = rdd_positive_words_ot_count_kv.map(lambda tuple: tuple[1]).sum()\\\n",
    "                  - rdd_negative_words_ot_count_kv.map(lambda tuple: tuple[1]).sum()\n",
    "\n",
    "print('The sentiment score is : ',sentiment_score_ot)"
   ]
  },
  {
   "cell_type": "code",
   "execution_count": null,
   "metadata": {
    "id": "q-lT6NZ5eQ95"
   },
   "outputs": [],
   "source": [
    "## Get the contextual words\n",
    "\n",
    "contextual_words_ot = rdd_original_tweets_words_lower.subtract(rdd_positive_words).subtract(rdd_negative_words).subtract(rdd_stop_words)\\\n",
    "                        .subtract(references).subtract(hashtags)"
   ]
  },
  {
   "cell_type": "code",
   "execution_count": null,
   "metadata": {
    "colab": {
     "base_uri": "https://localhost:8080/"
    },
    "id": "TUdapYs9eUNp",
    "outputId": "f1b1ecf2-a687-4cd5-a48c-e08be5548457"
   },
   "outputs": [
    {
     "data": {
      "text/plain": [
       "[('&amp', 4814),\n",
       " ('people', 2903),\n",
       " ('just', 2898),\n",
       " ('president', 2871),\n",
       " ('new', 2081),\n",
       " ('country', 1984),\n",
       " ('big', 1899),\n",
       " ('america', 1813),\n",
       " ('thanks', 1798),\n",
       " ('donald', 1730),\n",
       " ('make', 1686),\n",
       " ('time', 1625),\n",
       " ('news', 1484),\n",
       " ('obama', 1455),\n",
       " ('vote', 1421),\n",
       " ('going', 1368),\n",
       " ('want', 1214),\n",
       " ('today', 1208),\n",
       " ('democrats', 1192),\n",
       " ('run', 1162),\n",
       " ('job', 1136),\n",
       " ('need', 1080),\n",
       " ('doing', 1051),\n",
       " ('years', 1031),\n",
       " ('china', 1022),\n",
       " ('think', 1014),\n",
       " ('really', 1014),\n",
       " ('american', 997),\n",
       " ('u.s', 975),\n",
       " ('way', 973),\n",
       " ('know', 915),\n",
       " ('did', 909),\n",
       " ('true', 888),\n",
       " ('media', 868),\n",
       " ('jobs', 868),\n",
       " ('said', 844),\n",
       " (\"don't\", 843),\n",
       " ('hillary', 838),\n",
       " ('day', 838),\n",
       " ('border', 831),\n",
       " ('world', 828),\n",
       " ('deal', 823),\n",
       " ('states', 799),\n",
       " ('total', 783),\n",
       " ('state', 779),\n",
       " ('tonight', 768),\n",
       " ('house', 764),\n",
       " ('got', 752),\n",
       " ('election', 741),\n",
       " ('united', 735)]"
      ]
     },
     "execution_count": 53,
     "metadata": {},
     "output_type": "execute_result"
    }
   ],
   "source": [
    "## Top 50 Contextual Words/ Hot Topics\n",
    "\n",
    "contextual_words_count_ordered_ot = contextual_words_ot.map(lambda word: (word, 1))\\\n",
    "                                                 .reduceByKey(lambda x,y : x+y)\\\n",
    "                                                 .sortBy(lambda tuple: tuple[1], ascending=False)\n",
    "\n",
    "list_top_contextual_words_ot = contextual_words_count_ordered_ot.take(50)  \n",
    "\n",
    "list_top_contextual_words_ot"
   ]
  },
  {
   "cell_type": "code",
   "execution_count": null,
   "metadata": {
    "colab": {
     "base_uri": "https://localhost:8080/",
     "height": 564
    },
    "id": "LIxdoOz3eXF4",
    "outputId": "61c173e4-c03d-416a-cc41-413bc68597e9"
   },
   "outputs": [
    {
     "data": {
      "image/png": "[encoded data removed]",
      "text/plain": [
       "<Figure size 1080x576 with 1 Axes>"
      ]
     },
     "metadata": {
      "needs_background": "light"
     },
     "output_type": "display_data"
    }
   ],
   "source": [
    "## Plot of Top 50 Contextual Words in Donald Trump's original tweets\n",
    "\n",
    "plot_contextual_words(list_top_contextual_words_ot)"
   ]
  },
  {
   "cell_type": "code",
   "execution_count": null,
   "metadata": {
    "colab": {
     "base_uri": "https://localhost:8080/"
    },
    "id": "PdE74gc8ej14",
    "outputId": "b36a6918-2c3a-450b-a75a-2add3b896fd0"
   },
   "outputs": [
    {
     "data": {
      "text/plain": [
       "[('#MAGA', 69),\n",
       " ('#COVID19', 60),\n",
       " ('#USMCA', 32),\n",
       " ('#Dorian', 29),\n",
       " ('#coronavirus', 27),\n",
       " ('#PaycheckProtectionProgram', 21),\n",
       " ('#impeachment', 17),\n",
       " ('#BREAKING', 15),\n",
       " ('#Florence', 15),\n",
       " ('#Trump2016', 14)]"
      ]
     },
     "execution_count": 55,
     "metadata": {},
     "output_type": "execute_result"
    }
   ],
   "source": [
    "# Split each tweet into words\n",
    "words_rt = rdd_retweets.flatMap(lambda word:re.split(',| |\\[|\\]|,|:|;|\\.|\\\"', word.strip())).flatMap(lambda line: line.split(\" \"))\n",
    "\n",
    "# Filter the words to get only hashtags, then map each hashtag to be a pair of (hashtag,1)\n",
    "hashtags_rt = words_rt.filter(lambda w: '#' in w).map(lambda x: (x, 1))\n",
    "\n",
    "## Top 10 Hashtags of Retweets\n",
    "hashtags_rt_count = hashtags_rt.reduceByKey(lambda x,y : x+y).sortBy(lambda tuple: tuple[1], ascending=False)\n",
    "hashtags_rt_count.take(10)"
   ]
  },
  {
   "cell_type": "code",
   "execution_count": null,
   "metadata": {
    "colab": {
     "base_uri": "https://localhost:8080/"
    },
    "id": "0rHxxD5YenVV",
    "outputId": "a6435d29-b2eb-409e-ad71-f2f38bf02275"
   },
   "outputs": [
    {
     "data": {
      "text/plain": [
       "[('@realDonaldTrump', 2382),\n",
       " ('@WhiteHouse', 694),\n",
       " ('@TeamTrump', 286),\n",
       " ('@GOPChairwoman', 217),\n",
       " ('@DanScavino', 168),\n",
       " ('@Jim_Jordan', 161),\n",
       " ('@POTUS', 150),\n",
       " ('@GOP', 148),\n",
       " ('@DonaldJTrumpJr', 137),\n",
       " ('@dbongino', 134)]"
      ]
     },
     "execution_count": 56,
     "metadata": {},
     "output_type": "execute_result"
    }
   ],
   "source": [
    "# Filter the words to get only references, then map each reference to be a pair of (reference,1)\n",
    "references_rt = words_rt.filter(lambda w: '@' in w).map(lambda x: (x, 1))\n",
    "\n",
    "### Top 10 references of Retweets\n",
    "\n",
    "references_rt_count = references_rt.reduceByKey(lambda x,y : x+y).sortBy(lambda tuple: tuple[1], ascending=False)\n",
    "references_rt_count.take(10)\n"
   ]
  },
  {
   "cell_type": "code",
   "execution_count": null,
   "metadata": {
    "colab": {
     "base_uri": "https://localhost:8080/"
    },
    "id": "CETE3qIqeqeF",
    "outputId": "1526c35a-60c7-41ac-bae2-2e529909068f"
   },
   "outputs": [
    {
     "data": {
      "text/plain": [
       "['rt',\n",
       " '@cbs_herridge',\n",
       " 'read',\n",
       " 'letter',\n",
       " 'to',\n",
       " 'surveillance',\n",
       " 'court',\n",
       " 'obtained',\n",
       " 'by',\n",
       " 'cbs',\n",
       " 'news',\n",
       " 'questions',\n",
       " 'where',\n",
       " 'there',\n",
       " 'will',\n",
       " 'be',\n",
       " 'further',\n",
       " 'disciplinary',\n",
       " 'action',\n",
       " 'and',\n",
       " 'cho…',\n",
       " '17/01/2020',\n",
       " '03:22:47',\n",
       " 'rt',\n",
       " '@mzhemingway',\n",
       " 'very',\n",
       " 'friendly',\n",
       " 'telling',\n",
       " 'of',\n",
       " 'events',\n",
       " 'here',\n",
       " 'about',\n",
       " \"comey's\",\n",
       " 'apparent',\n",
       " 'leaking',\n",
       " 'to',\n",
       " 'compliant',\n",
       " 'media',\n",
       " 'if',\n",
       " 'you',\n",
       " 'read',\n",
       " 'those',\n",
       " 'articles',\n",
       " 'and',\n",
       " 'tho…',\n",
       " '17/01/2020',\n",
       " '13:13:59',\n",
       " 'rt',\n",
       " '@whitehouse',\n",
       " 'president']"
      ]
     },
     "execution_count": 57,
     "metadata": {},
     "output_type": "execute_result"
    }
   ],
   "source": [
    "# Split the retweets into a word list and filter the punctuation\n",
    "\n",
    "rdd_retweets_words = rdd_retweets.flatMap(split_with_multiple_separator).filter(lambda word: word!='' and word!='”' and word!='.')\n",
    "\n",
    "# Delete \"https\" contents of the retweets\n",
    "\n",
    "rdd_retweets_words = rdd_retweets_words.filter(lambda line: delhttps(line) != 1)\n",
    "\n",
    "# Transform all the words into lowercase\n",
    "\n",
    "rdd_retweets_words_lower = rdd_retweets_words.flatMap(lambda word:word.lower().split())\n",
    "rdd_retweets_words_lower.take(50)"
   ]
  },
  {
   "cell_type": "code",
   "execution_count": null,
   "metadata": {
    "colab": {
     "base_uri": "https://localhost:8080/"
    },
    "id": "Lm00e7Mdeuu0",
    "outputId": "ea32c6ba-b5b7-42ad-ad2a-eb7d463416d6"
   },
   "outputs": [
    {
     "data": {
      "text/plain": [
       "[('rt', 1),\n",
       " ('@cbs_herridge', 1),\n",
       " ('read', 1),\n",
       " ('letter', 1),\n",
       " ('to', 1),\n",
       " ('surveillance', 1),\n",
       " ('court', 1),\n",
       " ('obtained', 1),\n",
       " ('by', 1),\n",
       " ('cbs', 1)]"
      ]
     },
     "execution_count": 58,
     "metadata": {},
     "output_type": "execute_result"
    }
   ],
   "source": [
    "# initialize an rdd with key/value for counting each word in the retweets \n",
    "\n",
    "rdd_retweets_words_kv = rdd_retweets_words_lower.map(lambda word: (word, 1))\n",
    "\n",
    "rdd_retweets_words_kv.take(10)"
   ]
  },
  {
   "cell_type": "code",
   "execution_count": null,
   "metadata": {
    "colab": {
     "base_uri": "https://localhost:8080/"
    },
    "id": "dYyZwfx2exdv",
    "outputId": "490005f1-49cf-4c1e-9983-03584a9d7fdb"
   },
   "outputs": [
    {
     "data": {
      "text/plain": [
       "[('right', 132), ('good', 117), ('like', 184), ('safe', 38), ('effective', 12)]"
      ]
     },
     "execution_count": 59,
     "metadata": {},
     "output_type": "execute_result"
    }
   ],
   "source": [
    "## Join the cleaned word list with the positive word list\n",
    "# Use the mapValues transformation to assign a default count of 1 for each positive word\n",
    "\n",
    "rdd_positive_words_rt_kv = rdd_retweets_words_kv.join(rdd_positive_words_kv).mapValues(lambda tuple: 1)\n",
    "\n",
    "## Count the number of occurences of each positive word in retweets\n",
    "\n",
    "rdd_positive_words_rt_count_kv = rdd_positive_words_rt_kv.reduceByKey(lambda x,y : x+y)\n",
    "\n",
    "rdd_positive_words_rt_count_kv.take(5)"
   ]
  },
  {
   "cell_type": "code",
   "execution_count": null,
   "metadata": {
    "colab": {
     "base_uri": "https://localhost:8080/"
    },
    "id": "-FAuu08rezY4",
    "outputId": "2c06c70d-d8aa-4ca4-ee1d-2fd20f9615ed"
   },
   "outputs": [
    {
     "data": {
      "text/plain": [
       "[('trump', 1030),\n",
       " ('great', 415),\n",
       " ('thank', 279),\n",
       " ('like', 184),\n",
       " ('support', 156),\n",
       " ('right', 132),\n",
       " ('good', 117),\n",
       " ('work', 114),\n",
       " ('best', 107),\n",
       " ('win', 91),\n",
       " ('love', 85),\n",
       " ('strong', 84),\n",
       " ('incredible', 74),\n",
       " ('protect', 70),\n",
       " ('happy', 67),\n",
       " ('proud', 67),\n",
       " ('important', 65),\n",
       " ('approval', 64),\n",
       " ('honor', 63),\n",
       " ('better', 63),\n",
       " ('clear', 62),\n",
       " ('well', 54),\n",
       " ('amazing', 54),\n",
       " ('supreme', 51),\n",
       " ('congratulations', 49)]"
      ]
     },
     "execution_count": 60,
     "metadata": {},
     "output_type": "execute_result"
    }
   ],
   "source": [
    "## Top 25 positive words of retweets\n",
    "\n",
    "rdd_positive_words_rt_count_kv_ordered = rdd_positive_words_rt_count_kv.sortBy(lambda tuple: tuple[1], ascending=False)\n",
    "\n",
    "list_top_positives_opinion_rt = rdd_positive_words_rt_count_kv_ordered.take(25)\n",
    "\n",
    "list_top_positives_opinion_rt"
   ]
  },
  {
   "cell_type": "code",
   "execution_count": null,
   "metadata": {
    "colab": {
     "base_uri": "https://localhost:8080/"
    },
    "id": "Bs3wenX5e3nB",
    "outputId": "599f2b3e-2101-4deb-f9d0-a34237fe00f1"
   },
   "outputs": [
    {
     "data": {
      "text/plain": [
       "[('dishonest', 8),\n",
       " ('lost', 35),\n",
       " ('fraud', 46),\n",
       " ('killed', 31),\n",
       " ('epidemic', 7)]"
      ]
     },
     "execution_count": 61,
     "metadata": {},
     "output_type": "execute_result"
    }
   ],
   "source": [
    "## Join the cleaned word list with the negative word list\n",
    "# Use the mapValues transformation to assign a default count of 1 for each negative word\n",
    "\n",
    "rdd_negative_words_rt_kv = rdd_retweets_words_kv.join(rdd_negative_words_kv).mapValues(lambda tuple:1)\n",
    "\n",
    "## Count the number of occurences of each negative word in retweets\n",
    "\n",
    "rdd_negative_words_rt_count_kv = rdd_negative_words_rt_kv.reduceByKey(lambda x,y: x+y)\n",
    "\n",
    "rdd_negative_words_rt_count_kv.take(5)"
   ]
  },
  {
   "cell_type": "code",
   "execution_count": null,
   "metadata": {
    "colab": {
     "base_uri": "https://localhost:8080/"
    },
    "id": "Deki9WPie63X",
    "outputId": "434adafc-833d-495a-9b83-38488efe5944"
   },
   "outputs": [
    {
     "data": {
      "text/plain": [
       "[('breaking', 138),\n",
       " ('fake', 92),\n",
       " ('radical', 65),\n",
       " ('collusion', 62),\n",
       " ('hard', 61),\n",
       " ('impeach', 51),\n",
       " ('sham', 50),\n",
       " ('crime', 50),\n",
       " ('illegal', 49),\n",
       " ('crisis', 48),\n",
       " ('hoax', 47),\n",
       " ('fraud', 46),\n",
       " ('abuse', 46),\n",
       " ('partisan', 46),\n",
       " ('critical', 46),\n",
       " ('bad', 45),\n",
       " ('attack', 44),\n",
       " ('wrong', 42),\n",
       " ('lies', 40),\n",
       " ('destroy', 38),\n",
       " ('false', 36),\n",
       " ('corrupt', 36),\n",
       " ('failed', 36),\n",
       " ('lost', 35),\n",
       " ('corruption', 33)]"
      ]
     },
     "execution_count": 62,
     "metadata": {},
     "output_type": "execute_result"
    }
   ],
   "source": [
    "## Top 25 negative words of retweets\n",
    "\n",
    "rdd_negative_words_rt_count_kv_ordered = rdd_negative_words_rt_count_kv.sortBy(lambda tuple: tuple[1], ascending=False)\n",
    "\n",
    "list_top_negatives_opinion_rt = rdd_negative_words_rt_count_kv_ordered.take(25)\n",
    "\n",
    "list_top_negatives_opinion_rt"
   ]
  },
  {
   "cell_type": "code",
   "execution_count": null,
   "metadata": {
    "colab": {
     "base_uri": "https://localhost:8080/",
     "height": 600
    },
    "id": "IueD6KGVe9s1",
    "outputId": "0affe5db-c016-4731-9dda-b589258084b9"
   },
   "outputs": [
    {
     "data": {
      "image/png": "[encoded data removed]",
      "text/plain": [
       "<Figure size 1080x576 with 1 Axes>"
      ]
     },
     "metadata": {
      "needs_background": "light"
     },
     "output_type": "display_data"
    }
   ],
   "source": [
    "## Plot of top positives and negatives words in Donald Trump's retweets\n",
    "\n",
    "plot_opinion(list_top_positives_opinion_rt, list_top_negatives_opinion_rt)"
   ]
  },
  {
   "cell_type": "code",
   "execution_count": null,
   "metadata": {
    "colab": {
     "base_uri": "https://localhost:8080/"
    },
    "id": "pxeCiCJ8fBNC",
    "outputId": "2a675948-72e0-48a7-aa9f-ecc5d3a0ca46"
   },
   "outputs": [
    {
     "name": "stdout",
     "output_type": "stream",
     "text": [
      "The sentiment score is :  1866\n"
     ]
    }
   ],
   "source": [
    "## Compute the global sentiment score\n",
    "\n",
    "# sentiment score = count of positive words used - count of negative words used\n",
    "sentiment_score_rt = rdd_positive_words_rt_count_kv.map(lambda tuple: tuple[1]).sum()\\\n",
    "                  - rdd_negative_words_rt_count_kv.map(lambda tuple: tuple[1]).sum()\n",
    "\n",
    "print('The sentiment score is : ',sentiment_score_rt)"
   ]
  },
  {
   "cell_type": "code",
   "execution_count": null,
   "metadata": {
    "id": "qw5yj09qfCMz"
   },
   "outputs": [],
   "source": [
    "## Get the contextual words\n",
    "\n",
    "contextual_words_rt = rdd_retweets_words_lower.subtract(rdd_positive_words).subtract(rdd_negative_words).subtract(rdd_stop_words)\\\n",
    "                        .subtract(references.map(lambda word:word.lower())).subtract(hashtags)"
   ]
  },
  {
   "cell_type": "code",
   "execution_count": null,
   "metadata": {
    "colab": {
     "base_uri": "https://localhost:8080/"
    },
    "id": "_n83oIgBfIKD",
    "outputId": "f25e90aa-1c61-4267-f88c-0f09130b706e"
   },
   "outputs": [
    {
     "data": {
      "text/plain": [
       "[('rt', 9794),\n",
       " ('president', 1454),\n",
       " ('&amp', 646),\n",
       " ('democrats', 488),\n",
       " ('biden', 394),\n",
       " ('american', 392),\n",
       " ('just', 386),\n",
       " ('new', 385),\n",
       " ('people', 384),\n",
       " ('today', 366),\n",
       " ('impeachment', 328),\n",
       " ('america', 296),\n",
       " ('joe', 284),\n",
       " ('news', 258),\n",
       " ('house', 257),\n",
       " ('media', 232),\n",
       " ('senate', 215),\n",
       " ('time', 206),\n",
       " ('day', 202),\n",
       " ('vote', 198),\n",
       " ('live', 191),\n",
       " ('years', 185),\n",
       " ('want', 181),\n",
       " ('fbi', 180),\n",
       " ('election', 175),\n",
       " ('country', 175),\n",
       " ('americans', 170),\n",
       " ('obama', 166),\n",
       " ('says', 164),\n",
       " ('watch', 163),\n",
       " ('did', 162),\n",
       " ('coronavirus', 160),\n",
       " ('schiff', 160),\n",
       " ('it’s', 155),\n",
       " ('state', 155),\n",
       " ('make', 149),\n",
       " ('national', 147),\n",
       " ('u.s', 146),\n",
       " ('know', 144),\n",
       " ('states', 142),\n",
       " ('said', 141),\n",
       " ('going', 141),\n",
       " ('big', 140),\n",
       " ('economy', 134),\n",
       " ('united', 132),\n",
       " ('jobs', 129),\n",
       " ('help', 125),\n",
       " ('pelosi', 123),\n",
       " ('report', 123),\n",
       " ('republican', 122)]"
      ]
     },
     "execution_count": 66,
     "metadata": {},
     "output_type": "execute_result"
    }
   ],
   "source": [
    "## Top 50 Contextual Words/ Hot Topics\n",
    "\n",
    "contextual_words_count_ordered_rt = contextual_words_rt.map(lambda word: (word, 1))\\\n",
    "                                                 .reduceByKey(lambda x,y : x+y)\\\n",
    "                                                 .sortBy(lambda tuple: tuple[1], ascending=False)\n",
    "\n",
    "list_top_contextual_words_rt = contextual_words_count_ordered_rt.take(50)  \n",
    "\n",
    "list_top_contextual_words_rt"
   ]
  },
  {
   "cell_type": "code",
   "execution_count": null,
   "metadata": {
    "colab": {
     "base_uri": "https://localhost:8080/",
     "height": 587
    },
    "id": "Djj3D4wMfLdi",
    "outputId": "2cd3a499-3f21-4748-bfc1-4bd5d6375260"
   },
   "outputs": [
    {
     "data": {
      "image/png": "[encoded data removed]",
      "text/plain": [
       "<Figure size 1080x576 with 1 Axes>"
      ]
     },
     "metadata": {
      "needs_background": "light"
     },
     "output_type": "display_data"
    }
   ],
   "source": [
    "## Plot of Top 50 Contextual Words in Donald Trump's tweets\n",
    "\n",
    "plot_contextual_words(list_top_contextual_words_rt)"
   ]
  },
  {
   "cell_type": "code",
   "execution_count": null,
   "metadata": {
    "colab": {
     "base_uri": "https://localhost:8080/"
    },
    "id": "mR8Ntg2MfPq-",
    "outputId": "9562a137-5249-4c98-94f3-ca4e06d5805f"
   },
   "outputs": [
    {
     "name": "stdout",
     "output_type": "stream",
     "text": [
      "The number of tweets in  2009  :  56\n",
      "The number of tweets in  2010  :  142\n",
      "The number of tweets in  2011  :  773\n",
      "The number of tweets in  2012  :  3531\n",
      "The number of tweets in  2013  :  8144\n",
      "The number of tweets in  2014  :  5784\n",
      "The number of tweets in  2015  :  7536\n",
      "The number of tweets in  2016  :  4228\n",
      "The number of tweets in  2017  :  2604\n",
      "The number of tweets in  2018  :  3569\n",
      "The number of tweets in  2019  :  7818\n",
      "The number of tweets in  2020  :  11337\n"
     ]
    }
   ],
   "source": [
    "for y in range(2009,2021):\n",
    "    year = '/' + str(y)\n",
    "    print ('The number of tweets in ', y , ' : ' , rdd_tweets.filter(lambda line : re.search(year,line)).count())"
   ]
  },
  {
   "cell_type": "code",
   "execution_count": null,
   "metadata": {
    "id": "M4PYLDOlfTBR"
   },
   "outputs": [],
   "source": [
    "# Split the original tweets into a word list and filter the punctuation\n",
    "rdd_tweets_2012 = rdd_tweets.filter(lambda line : re.search('/2012',line))\\\n",
    "                    .flatMap(split_with_multiple_separator).filter(lambda word: word!='' and word!='”' and word!='.')\\\n",
    "                    .filter(lambda line: delhttps(line) != 1).flatMap(lambda word:word.lower().split())\n",
    "\n",
    "## Get the contextual words\n",
    "contextual_words_2012 = rdd_tweets_2012.subtract(rdd_positive_words).subtract(rdd_negative_words).subtract(rdd_stop_words)\\\n",
    "                    .subtract(references).subtract(hashtags)"
   ]
  },
  {
   "cell_type": "code",
   "execution_count": null,
   "metadata": {
    "colab": {
     "base_uri": "https://localhost:8080/"
    },
    "id": "K2ynR3KNfVks",
    "outputId": "4599430e-a5e7-419b-eb86-29365fef88ca"
   },
   "outputs": [
    {
     "data": {
      "text/plain": [
       "[('(cont)', 349),\n",
       " ('obama', 345),\n",
       " ('&amp', 251),\n",
       " ('china', 167),\n",
       " ('just', 156),\n",
       " ('interview', 130),\n",
       " ('people', 121),\n",
       " ('new', 117),\n",
       " ('time', 116),\n",
       " ('thanks', 110),\n",
       " ('discussing', 103),\n",
       " (\"don't\", 103),\n",
       " ('president', 97),\n",
       " ('america', 86),\n",
       " (\"it's\", 85),\n",
       " ('make', 82),\n",
       " ('night', 78),\n",
       " ('country', 76),\n",
       " ('did', 76),\n",
       " ('deal', 76),\n",
       " ('job', 75),\n",
       " ('big', 74),\n",
       " ('going', 73),\n",
       " ('record', 68),\n",
       " ('election', 68),\n",
       " ('watch', 68),\n",
       " ('jobs', 67),\n",
       " ('really', 67),\n",
       " ('real', 66),\n",
       " ('think', 66),\n",
       " (\"obama's\", 65),\n",
       " ('need', 63),\n",
       " ('17/10/2012', 63),\n",
       " ('doing', 62),\n",
       " ('money', 62),\n",
       " ('world', 61),\n",
       " (\"can't\", 60),\n",
       " ('years', 60),\n",
       " ('gas', 60),\n",
       " ('donald', 60),\n",
       " ('tonight', 57),\n",
       " ('today', 56),\n",
       " ('season', 55),\n",
       " ('06/12/2012', 53),\n",
       " ('year', 53),\n",
       " ('tax', 52),\n",
       " ('million', 52),\n",
       " ('26/10/2012', 51),\n",
       " ('national', 51),\n",
       " ('said', 50)]"
      ]
     },
     "execution_count": 70,
     "metadata": {},
     "output_type": "execute_result"
    }
   ],
   "source": [
    "## Top 50 Contextual Words/ Hot Topics of 2012\n",
    "\n",
    "contextual_words_2012_ordered = contextual_words_2012.map(lambda word: (word, 1))\\\n",
    "                                                 .reduceByKey(lambda x,y : x+y)\\\n",
    "                                                 .sortBy(lambda tuple: tuple[1], ascending=False)\n",
    "\n",
    "contextual_words_2012_ordered.take(50)  "
   ]
  },
  {
   "cell_type": "code",
   "execution_count": null,
   "metadata": {
    "id": "tM_gNrUNfZO8"
   },
   "outputs": [],
   "source": [
    "# Split the original tweets into a word list and filter the punctuation\n",
    "rdd_tweets_2013 = rdd_tweets.filter(lambda line : re.search('/2013',line))\\\n",
    "                    .flatMap(split_with_multiple_separator).filter(lambda word: word!='' and word!='”' and word!='.')\\\n",
    "                    .filter(lambda line: delhttps(line) != 1).flatMap(lambda word:word.lower().split())\n",
    "\n",
    "## Get the contextual words\n",
    "contextual_words_2013 = rdd_tweets_2013.subtract(rdd_positive_words).subtract(rdd_negative_words).subtract(rdd_stop_words)\\\n",
    "                    .subtract(references).subtract(hashtags)"
   ]
  },
  {
   "cell_type": "code",
   "execution_count": null,
   "metadata": {
    "colab": {
     "base_uri": "https://localhost:8080/"
    },
    "id": "cA7lfV4OfcIG",
    "outputId": "235927af-375e-408f-ad5f-c477c9fbb4d8"
   },
   "outputs": [
    {
     "data": {
      "text/plain": [
       "[('thanks', 1102),\n",
       " ('&amp', 590),\n",
       " ('just', 416),\n",
       " ('think', 331),\n",
       " ('people', 329),\n",
       " ('donald', 304),\n",
       " ('obama', 291),\n",
       " ('true', 289),\n",
       " ('president', 271),\n",
       " ('time', 255),\n",
       " ('big', 241),\n",
       " ('new', 240),\n",
       " ('really', 208),\n",
       " (\"don't\", 207),\n",
       " ('going', 206),\n",
       " ('country', 193),\n",
       " ('run', 164),\n",
       " ('obamacare', 162),\n",
       " ('make', 156),\n",
       " ('know', 155),\n",
       " ('doing', 138),\n",
       " ('job', 137),\n",
       " (\"you're\", 135),\n",
       " ('need', 133),\n",
       " (\"i'm\", 133),\n",
       " ('mr', 132),\n",
       " ('did', 130),\n",
       " ('golf', 126),\n",
       " ('day', 121),\n",
       " ('apprentice', 119),\n",
       " ('course', 119),\n",
       " (\"it's\", 117),\n",
       " ('want', 117),\n",
       " ('money', 117),\n",
       " ('yes', 115),\n",
       " ('world', 115),\n",
       " ('thanks.', 113),\n",
       " ('man', 111),\n",
       " (\"can't\", 110),\n",
       " ('way', 108),\n",
       " ('business', 107),\n",
       " ('today', 107),\n",
       " ('deal', 104),\n",
       " ('hope', 103),\n",
       " ('look', 103),\n",
       " ('china', 103),\n",
       " ('say', 100),\n",
       " ('27/02/2013', 100),\n",
       " ('celebrity', 99),\n",
       " ('tonight', 99)]"
      ]
     },
     "execution_count": 72,
     "metadata": {},
     "output_type": "execute_result"
    }
   ],
   "source": [
    "## Top 50 Contextual Words/ Hot Topics of 2013\n",
    "\n",
    "\n",
    "contextual_words_2013_ordered = contextual_words_2013.map(lambda word: (word, 1))\\\n",
    "                                                 .reduceByKey(lambda x,y : x+y)\\\n",
    "                                                 .sortBy(lambda tuple: tuple[1], ascending=False)\n",
    "\n",
    "contextual_words_2013_ordered.take(50) "
   ]
  },
  {
   "cell_type": "code",
   "execution_count": null,
   "metadata": {
    "id": "1NiGIUb_fdvG"
   },
   "outputs": [],
   "source": [
    "# Split the original tweets into a word list and filter the punctuation\n",
    "rdd_tweets_2014 = rdd_tweets.filter(lambda line : re.search('/2014',line))\\\n",
    "                    .flatMap(split_with_multiple_separator).filter(lambda word: word!='' and word!='”' and word!='.')\\\n",
    "                    .filter(lambda line: delhttps(line) != 1).flatMap(lambda word:word.lower().split())\n",
    "\n",
    "## Get the contextual words\n",
    "contextual_words_2014 = rdd_tweets_2014.subtract(rdd_positive_words).subtract(rdd_negative_words).subtract(rdd_stop_words)\\\n",
    "                    .subtract(references).subtract(hashtags)"
   ]
  },
  {
   "cell_type": "code",
   "execution_count": null,
   "metadata": {
    "colab": {
     "base_uri": "https://localhost:8080/"
    },
    "id": "ae6Py3Srfgtq",
    "outputId": "bfab83e5-3861-4739-ef93-736407ae3924"
   },
   "outputs": [
    {
     "data": {
      "text/plain": [
       "[('president', 585),\n",
       " ('&amp', 503),\n",
       " ('donald', 460),\n",
       " ('run', 399),\n",
       " ('just', 321),\n",
       " ('obama', 304),\n",
       " ('thanks', 277),\n",
       " ('country', 226),\n",
       " ('need', 218),\n",
       " ('new', 212),\n",
       " ('mr', 211),\n",
       " ('think', 204),\n",
       " ('vote', 195),\n",
       " ('people', 187),\n",
       " ('true', 182),\n",
       " ('make', 182),\n",
       " ('you.', 181),\n",
       " ('thanks.', 168),\n",
       " ('course', 163),\n",
       " ('golf', 160),\n",
       " ('2016', 160),\n",
       " (\"don't\", 159),\n",
       " ('time', 153),\n",
       " ('man', 141),\n",
       " ('know', 135),\n",
       " (\"it's\", 133),\n",
       " (\"i'm\", 131),\n",
       " ('world', 127),\n",
       " (\"can't\", 125),\n",
       " ('america', 123),\n",
       " ('business', 122),\n",
       " ('big', 122),\n",
       " ('really', 118),\n",
       " ('going', 116),\n",
       " ('needs', 112),\n",
       " (\"you're\", 108),\n",
       " ('way', 108),\n",
       " ('day', 106),\n",
       " ('hotel', 102),\n",
       " ('real', 96),\n",
       " ('u', 93),\n",
       " ('today', 91),\n",
       " ('looking', 91),\n",
       " ('agree', 91),\n",
       " ('u.s', 90),\n",
       " ('got', 90),\n",
       " ('job', 89),\n",
       " ('ebola', 89),\n",
       " ('deal', 89),\n",
       " ('17/06/2014', 88)]"
      ]
     },
     "execution_count": 74,
     "metadata": {},
     "output_type": "execute_result"
    }
   ],
   "source": [
    "## Top 50 Contextual Words/ Hot Topics of 2014\n",
    "\n",
    "contextual_words_2014_ordered = contextual_words_2014.map(lambda word: (word, 1))\\\n",
    "                                                 .reduceByKey(lambda x,y : x+y)\\\n",
    "                                                 .sortBy(lambda tuple: tuple[1], ascending=False)\n",
    "\n",
    "contextual_words_2014_ordered.take(50)  "
   ]
  },
  {
   "cell_type": "code",
   "execution_count": null,
   "metadata": {
    "id": "Ylr37jfofr7_"
   },
   "outputs": [],
   "source": [
    "# Split the original tweets into a word list and filter the punctuation\n",
    "rdd_tweets_2015 = rdd_tweets.filter(lambda line : re.search('/2015',line))\\\n",
    "                    .flatMap(split_with_multiple_separator).filter(lambda word: word!='' and word!='”' and word!='.')\\\n",
    "                    .filter(lambda line: delhttps(line) != 1).flatMap(lambda word:word.lower().split())\n",
    "\n",
    "## Get the contextual words\n",
    "contextual_words_2015 = rdd_tweets_2015.subtract(rdd_positive_words).subtract(rdd_negative_words).subtract(rdd_stop_words)\\\n",
    "                    .subtract(references).subtract(hashtags)\n"
   ]
  },
  {
   "cell_type": "code",
   "execution_count": null,
   "metadata": {
    "colab": {
     "base_uri": "https://localhost:8080/"
    },
    "id": "ygInXVkjftBE",
    "outputId": "ac99943b-5f0b-4a53-9acc-1f209bcec86c"
   },
   "outputs": [
    {
     "data": {
      "text/plain": [
       "[('donald', 654),\n",
       " ('&amp', 537),\n",
       " ('president', 514),\n",
       " ('america', 478),\n",
       " ('just', 424),\n",
       " ('make', 390),\n",
       " ('run', 365),\n",
       " ('people', 318),\n",
       " ('need', 290),\n",
       " ('new', 289),\n",
       " ('country', 287),\n",
       " ('time', 249),\n",
       " ('vote', 247),\n",
       " ('mr', 221),\n",
       " (\"don't\", 217),\n",
       " ('poll', 214),\n",
       " ('tonight', 203),\n",
       " ('going', 196),\n",
       " (\"can't\", 191),\n",
       " ('thanks', 184),\n",
       " ('really', 177),\n",
       " (\"it's\", 174),\n",
       " ('big', 167),\n",
       " ('want', 167),\n",
       " ('05/01/2015', 160),\n",
       " ('know', 159),\n",
       " ('think', 159),\n",
       " (\"i'm\", 155),\n",
       " ('needs', 150),\n",
       " ('2016', 146),\n",
       " ('watch', 145),\n",
       " ('hope', 141),\n",
       " ('said', 135),\n",
       " ('true', 135),\n",
       " ('man', 133),\n",
       " ('job', 132),\n",
       " ('debate', 131),\n",
       " ('hillary', 131),\n",
       " ('wait', 128),\n",
       " ('jeb', 128),\n",
       " ('real', 128),\n",
       " ('donaldtrump', 128),\n",
       " ('obama', 126),\n",
       " ('night', 124),\n",
       " ('entrepreneurs', 122),\n",
       " ('apprentice', 120),\n",
       " ('way', 119),\n",
       " ('06/01/2015', 118),\n",
       " ('u', 116),\n",
       " (\"you're\", 114)]"
      ]
     },
     "execution_count": 76,
     "metadata": {},
     "output_type": "execute_result"
    }
   ],
   "source": [
    "## Top 50 Contextual Words/ Hot Topics of 2015\n",
    "\n",
    "contextual_words_2015_ordered = contextual_words_2015.map(lambda word: (word, 1))\\\n",
    "                                                 .reduceByKey(lambda x,y : x+y)\\\n",
    "                                                 .sortBy(lambda tuple: tuple[1], ascending=False)\n",
    "\n",
    "contextual_words_2015_ordered.take(50) "
   ]
  },
  {
   "cell_type": "code",
   "execution_count": null,
   "metadata": {
    "id": "6vsAfcFIfyEl"
   },
   "outputs": [],
   "source": [
    "# Split the original tweets into a word list and filter the punctuation\n",
    "rdd_tweets_2016 = rdd_tweets.filter(lambda line : re.search('/2016',line))\\\n",
    "                    .flatMap(split_with_multiple_separator).filter(lambda word: word!='' and word!='”' and word!='.')\\\n",
    "                    .filter(lambda line: delhttps(line) != 1).flatMap(lambda word:word.lower().split())\n",
    "\n",
    "## Get the contextual words\n",
    "contextual_words_2016 = rdd_tweets_2016.subtract(rdd_positive_words).subtract(rdd_negative_words).subtract(rdd_stop_words)\\\n",
    "                    .subtract(references).subtract(hashtags.map(lambda word:word.lower()))"
   ]
  },
  {
   "cell_type": "code",
   "execution_count": null,
   "metadata": {
    "colab": {
     "base_uri": "https://localhost:8080/"
    },
    "id": "vQPayPshgnlI",
    "outputId": "fb8cc6f3-329d-44f5-b2ef-8d65981afccd"
   },
   "outputs": [
    {
     "data": {
      "text/plain": [
       "[('hillary', 449),\n",
       " ('&amp', 371),\n",
       " ('just', 284),\n",
       " ('america', 282),\n",
       " ('people', 274),\n",
       " ('clinton', 262),\n",
       " ('make', 248),\n",
       " ('new', 238),\n",
       " ('rt', 194),\n",
       " ('cruz', 182),\n",
       " ('join', 176),\n",
       " ('vote', 175),\n",
       " ('big', 163),\n",
       " ('today', 144),\n",
       " ('president', 136),\n",
       " ('going', 136),\n",
       " ('time', 130),\n",
       " ('ted', 125),\n",
       " ('tonight', 124),\n",
       " ('country', 115),\n",
       " ('tomorrow', 108),\n",
       " ('media', 102),\n",
       " ('said', 102),\n",
       " ('watch', 101),\n",
       " ('poll', 100),\n",
       " ('campaign', 97),\n",
       " ('jobs', 88),\n",
       " ('night', 87),\n",
       " ('20/10/2016', 87),\n",
       " ('ohio', 86),\n",
       " ('iowa', 83),\n",
       " ('speech', 83),\n",
       " (\"don't\", 80),\n",
       " ('want', 80),\n",
       " ('florida', 78),\n",
       " ('rally', 78),\n",
       " ('carolina', 78),\n",
       " ('job', 76),\n",
       " ('000', 76),\n",
       " ('obama', 76),\n",
       " ('way', 76),\n",
       " ('debate', 74),\n",
       " ('american', 74),\n",
       " ('donald', 73),\n",
       " ('did', 73),\n",
       " ('rubio', 72),\n",
       " ('republican', 72),\n",
       " ('bernie', 72),\n",
       " ('state', 71),\n",
       " ('day', 70)]"
      ]
     },
     "execution_count": 80,
     "metadata": {},
     "output_type": "execute_result"
    }
   ],
   "source": [
    "## Top 50 Contextual Words/ Hot Topics of 2016\n",
    "\n",
    "contextual_words_2016_ordered = contextual_words_2016.map(lambda word: (word, 1))\\\n",
    "                                                 .reduceByKey(lambda x,y : x+y)\\\n",
    "                                                 .sortBy(lambda tuple: tuple[1], ascending=False)\n",
    "\n",
    "contextual_words_2016_ordered.take(50) "
   ]
  },
  {
   "cell_type": "code",
   "execution_count": null,
   "metadata": {
    "id": "Kr3Z6ThlgsFl"
   },
   "outputs": [],
   "source": [
    "# Split the original tweets into a word list and filter the punctuation\n",
    "rdd_tweets_2017 = rdd_tweets.filter(lambda line : re.search('/2017',line))\\\n",
    "                    .flatMap(split_with_multiple_separator).filter(lambda word: word!='' and word!='”' and word!='.')\\\n",
    "                    .filter(lambda line: delhttps(line) != 1).flatMap(lambda word:word.lower().split())\n",
    "\n",
    "## Get the contextual words\n",
    "contextual_words_2017 = rdd_tweets_2017.subtract(rdd_positive_words).subtract(rdd_negative_words).subtract(rdd_stop_words)\\\n",
    "                    .subtract(references).subtract(hashtags.map(lambda word:word.lower()))"
   ]
  },
  {
   "cell_type": "code",
   "execution_count": null,
   "metadata": {
    "colab": {
     "base_uri": "https://localhost:8080/"
    },
    "id": "HK4oW0esgvKZ",
    "outputId": "40348d66-de68-48ee-c94e-e9778eec5d80"
   },
   "outputs": [
    {
     "data": {
      "text/plain": [
       "[('&amp', 471),\n",
       " ('rt', 311),\n",
       " ('news', 203),\n",
       " ('people', 202),\n",
       " ('just', 171),\n",
       " ('today', 164),\n",
       " ('big', 162),\n",
       " ('tax', 152),\n",
       " ('america', 151),\n",
       " ('president', 147),\n",
       " ('u.s', 135),\n",
       " ('country', 130),\n",
       " ('american', 125),\n",
       " ('jobs', 125),\n",
       " ('media', 108),\n",
       " ('time', 104),\n",
       " ('new', 102),\n",
       " ('make', 97),\n",
       " ('democrats', 87),\n",
       " ('day', 86),\n",
       " ('years', 86),\n",
       " ('house', 81),\n",
       " ('working', 81),\n",
       " ('national', 76),\n",
       " ('election', 75),\n",
       " ('going', 75),\n",
       " ('cuts', 74),\n",
       " ('united', 74),\n",
       " ('russia', 74),\n",
       " ('healthcare', 72),\n",
       " ('obamacare', 70),\n",
       " ('want', 68),\n",
       " ('korea', 68),\n",
       " ('military', 66),\n",
       " ('vote', 66),\n",
       " ('north', 65),\n",
       " ('republicans', 64),\n",
       " ('dems', 63),\n",
       " ('states', 62),\n",
       " ('republican', 61),\n",
       " ('security', 59),\n",
       " ('job', 57),\n",
       " ('year', 57),\n",
       " ('meeting', 56),\n",
       " ('senate', 55),\n",
       " ('help', 54),\n",
       " ('obama', 54),\n",
       " ('state', 53),\n",
       " ('china', 52),\n",
       " ('way', 50)]"
      ]
     },
     "execution_count": 82,
     "metadata": {},
     "output_type": "execute_result"
    }
   ],
   "source": [
    "## Top 50 Contextual Words/ Hot Topics of 2017\n",
    "\n",
    "contextual_words_2017_ordered = contextual_words_2017.map(lambda word: (word, 1))\\\n",
    "                                                 .reduceByKey(lambda x,y : x+y)\\\n",
    "                                                 .sortBy(lambda tuple: tuple[1], ascending=False)\n",
    "\n",
    "contextual_words_2017_ordered.take(50) "
   ]
  },
  {
   "cell_type": "code",
   "execution_count": null,
   "metadata": {
    "id": "fHT6uUdXgy3D"
   },
   "outputs": [],
   "source": [
    "# Split the original tweets into a word list and filter the punctuation\n",
    "rdd_tweets_2018 = rdd_tweets.filter(lambda line : re.search('/2018',line))\\\n",
    "                    .flatMap(split_with_multiple_separator).filter(lambda word: word!='' and word!='”' and word!='.')\\\n",
    "                    .filter(lambda line: delhttps(line) != 1).flatMap(lambda word:word.lower().split())\n",
    "\n",
    "## Get the contextual words\n",
    "contextual_words_2018 = rdd_tweets_2018.subtract(rdd_positive_words).subtract(rdd_negative_words).subtract(rdd_stop_words)\\\n",
    "                    .subtract(references).subtract(hashtags.map(lambda word:word.lower()))"
   ]
  },
  {
   "cell_type": "code",
   "execution_count": null,
   "metadata": {
    "colab": {
     "base_uri": "https://localhost:8080/"
    },
    "id": "2CwcaznKg2SH",
    "outputId": "b10260ec-bb53-4eca-e8d1-e69976c5829d"
   },
   "outputs": [
    {
     "data": {
      "text/plain": [
       "[('&amp', 518),\n",
       " ('rt', 464),\n",
       " ('people', 458),\n",
       " ('president', 349),\n",
       " ('country', 320),\n",
       " ('just', 320),\n",
       " ('democrats', 282),\n",
       " ('news', 268),\n",
       " ('border', 267),\n",
       " ('big', 265),\n",
       " ('u.s', 234),\n",
       " ('today', 203),\n",
       " ('new', 201),\n",
       " ('time', 199),\n",
       " ('trade', 197),\n",
       " ('vote', 197),\n",
       " ('want', 196),\n",
       " ('america', 186),\n",
       " ('military', 181),\n",
       " ('make', 164),\n",
       " ('american', 159),\n",
       " ('years', 158),\n",
       " ('job', 157),\n",
       " ('doing', 157),\n",
       " ('state', 154),\n",
       " ('united', 154),\n",
       " ('security', 151),\n",
       " ('fbi', 150),\n",
       " ('states', 147),\n",
       " ('house', 145),\n",
       " ('going', 145),\n",
       " ('don’t', 143),\n",
       " ('media', 139),\n",
       " ('witch', 138),\n",
       " ('wall', 135),\n",
       " ('hunt', 135),\n",
       " ('jobs', 132),\n",
       " ('total', 131),\n",
       " ('election', 126),\n",
       " ('russia', 122),\n",
       " ('need', 121),\n",
       " ('deal', 117),\n",
       " ('obama', 116),\n",
       " ('way', 116),\n",
       " ('north', 115),\n",
       " ('day', 114),\n",
       " ('really', 113),\n",
       " ('campaign', 112),\n",
       " ('world', 112),\n",
       " ('dems', 107)]"
      ]
     },
     "execution_count": 84,
     "metadata": {},
     "output_type": "execute_result"
    }
   ],
   "source": [
    "## Top 50 Contextual Words/ Hot Topics of 2018\n",
    "\n",
    "contextual_words_2018_ordered = contextual_words_2018.map(lambda word: (word, 1))\\\n",
    "                                                 .reduceByKey(lambda x,y : x+y)\\\n",
    "                                                 .sortBy(lambda tuple: tuple[1], ascending=False)\n",
    "\n",
    "contextual_words_2018_ordered.take(50) "
   ]
  },
  {
   "cell_type": "code",
   "execution_count": null,
   "metadata": {
    "id": "3KfzJdLVg-F6"
   },
   "outputs": [],
   "source": [
    "# Split the original tweets into a word list and filter the punctuation\n",
    "rdd_tweets_2019 = rdd_tweets.filter(lambda line : re.search('/2019',line))\\\n",
    "                    .flatMap(split_with_multiple_separator).filter(lambda word: word!='' and word!='”' and word!='.')\\\n",
    "                    .filter(lambda line: delhttps(line) != 1).flatMap(lambda word:word.lower().split())\n",
    "\n",
    "## Get the contextual words\n",
    "contextual_words_2019 = rdd_tweets_2019.subtract(rdd_positive_words).subtract(rdd_negative_words).subtract(rdd_stop_words)\\\n",
    "                    .subtract(references).subtract(hashtags.map(lambda word:word.lower()))"
   ]
  },
  {
   "cell_type": "code",
   "execution_count": null,
   "metadata": {
    "colab": {
     "base_uri": "https://localhost:8080/"
    },
    "id": "Rff0JUqGhBat",
    "outputId": "45655983-53ab-4657-bb81-53cdb49d5564"
   },
   "outputs": [
    {
     "data": {
      "text/plain": [
       "[('rt', 3021),\n",
       " ('president', 1045),\n",
       " ('&amp', 1032),\n",
       " ('democrats', 750),\n",
       " ('people', 609),\n",
       " ('just', 563),\n",
       " ('new', 474),\n",
       " ('news', 440),\n",
       " ('country', 436),\n",
       " ('impeachment', 409),\n",
       " ('big', 390),\n",
       " ('border', 388),\n",
       " ('time', 339),\n",
       " ('years', 326),\n",
       " ('want', 319),\n",
       " ('media', 318),\n",
       " ('today', 318),\n",
       " ('american', 316),\n",
       " ('united', 305),\n",
       " ('china', 296),\n",
       " ('house', 295),\n",
       " ('america', 272),\n",
       " ('don’t', 272),\n",
       " ('states', 271),\n",
       " ('doing', 260),\n",
       " ('dems', 250),\n",
       " ('u.s', 250),\n",
       " ('going', 231),\n",
       " ('said', 224),\n",
       " ('schiff', 220),\n",
       " ('did', 219),\n",
       " ('job', 217),\n",
       " ('deal', 217),\n",
       " ('republican', 215),\n",
       " ('make', 209),\n",
       " ('day', 202),\n",
       " ('history', 201),\n",
       " ('know', 200),\n",
       " ('state', 196),\n",
       " ('democrat', 196),\n",
       " ('party', 195),\n",
       " ('way', 189),\n",
       " ('mueller', 189),\n",
       " ('vote', 188),\n",
       " ('economy', 185),\n",
       " ('congress', 184),\n",
       " ('report', 183),\n",
       " ('wall', 177),\n",
       " ('republicans', 176),\n",
       " ('witch', 176)]"
      ]
     },
     "execution_count": 86,
     "metadata": {},
     "output_type": "execute_result"
    }
   ],
   "source": [
    "## Top 50 Contextual Words/ Hot Topics of 2019\n",
    "\n",
    "contextual_words_2019_ordered = contextual_words_2019.map(lambda word: (word, 1))\\\n",
    "                                                 .reduceByKey(lambda x,y : x+y)\\\n",
    "                                                 .sortBy(lambda tuple: tuple[1], ascending=False)\n",
    "\n",
    "contextual_words_2019_ordered.take(50) "
   ]
  },
  {
   "cell_type": "code",
   "execution_count": null,
   "metadata": {
    "id": "sq3mwQNThEQu"
   },
   "outputs": [],
   "source": [
    "# Split the original tweets into a word list and filter the punctuation\n",
    "rdd_tweets_2020 = rdd_tweets.filter(lambda line : re.search('/2020',line))\\\n",
    "                    .flatMap(split_with_multiple_separator).filter(lambda word: word!='' and word!='”' and word!='.')\\\n",
    "                    .filter(lambda line: delhttps(line) != 1).flatMap(lambda word:word.lower().split())\n",
    "\n",
    "## Get the contextual words\n",
    "contextual_words_2020 = rdd_tweets_2020.subtract(rdd_positive_words).subtract(rdd_negative_words).subtract(rdd_stop_words)\\\n",
    "                    .subtract(references.map(lambda word:word.lower())).subtract(hashtags.map(lambda word:word.lower()))"
   ]
  },
  {
   "cell_type": "code",
   "execution_count": null,
   "metadata": {
    "colab": {
     "base_uri": "https://localhost:8080/"
    },
    "id": "ZqAtIdVThIBl",
    "outputId": "7f09f22c-90f7-444b-ec2d-6b236e818b37"
   },
   "outputs": [
    {
     "data": {
      "text/plain": [
       "[('rt', 4369),\n",
       " ('&amp', 1138),\n",
       " ('president', 1005),\n",
       " ('people', 722),\n",
       " ('biden', 696),\n",
       " ('just', 570),\n",
       " ('joe', 560),\n",
       " ('news', 537),\n",
       " ('new', 454),\n",
       " ('big', 435),\n",
       " ('democrats', 425),\n",
       " ('vote', 403),\n",
       " ('american', 392),\n",
       " ('america', 343),\n",
       " ('country', 340),\n",
       " ('election', 316),\n",
       " ('today', 306),\n",
       " ('state', 304),\n",
       " ('going', 299),\n",
       " ('media', 286),\n",
       " ('want', 281),\n",
       " ('states', 277),\n",
       " ('make', 271),\n",
       " ('years', 269),\n",
       " ('total', 263),\n",
       " ('house', 256),\n",
       " ('job', 255),\n",
       " ('time', 245),\n",
       " ('coronavirus', 238),\n",
       " ('way', 234),\n",
       " ('left', 233),\n",
       " ('doing', 231),\n",
       " ('did', 231),\n",
       " ('complete', 230),\n",
       " ('china', 228),\n",
       " ('history', 209),\n",
       " ('military', 206),\n",
       " ('law', 205),\n",
       " ('democrat', 204),\n",
       " ('federal', 202),\n",
       " ('republican', 202),\n",
       " ('jobs', 199),\n",
       " ('senate', 199),\n",
       " ('national', 199),\n",
       " ('said', 195),\n",
       " ('don’t', 195),\n",
       " ('got', 189),\n",
       " ('help', 185),\n",
       " ('day', 182),\n",
       " ('sleepy', 174)]"
      ]
     },
     "execution_count": 88,
     "metadata": {},
     "output_type": "execute_result"
    }
   ],
   "source": [
    "## Top 50 Contextual Words/ Hot Topics of 2020\n",
    "\n",
    "contextual_words_2020_ordered = contextual_words_2020.map(lambda word: (word, 1))\\\n",
    "                                                 .reduceByKey(lambda x,y : x+y)\\\n",
    "                                                 .sortBy(lambda tuple: tuple[1], ascending=False)\n",
    "\n",
    "contextual_words_2020_ordered.take(50) "
   ]
  },
  {
   "cell_type": "markdown",
   "metadata": {
    "id": "gW7NWh78hO1u"
   },
   "source": [
    "The focus of this analysis is to identify the characteristics of Donald Trump’s, the President of the United States of America, communication from 2009 to 2020. The conclusion are drawn from evaluating hashtags, references and hot topics by overall and partial analysis (original tweets, retweets, tweets in each year):\n",
    "\n",
    "Donald Trump has been tweeting more than 58000 tweets over 12 years in which 80% are his original tweets. On average, he tends to use positive words than negative words in both original tweets and retweets.\n",
    "\n",
    "The hot topics over 12 years can be grouped into either politics or his personal life : 1) Politics :\n",
    "\n",
    "Former President Obama\n",
    "Obamacare\n",
    "2016 Presidential Election\n",
    "2020 Presidential Election\n",
    "Impeachment of President Donald Trump\n",
    "Trade war between U.S and China\n",
    "Relationship between U.S and Mexico\n",
    "Relationship between U.S and North Korea\n",
    "Relationship between U.S and Russia\n",
    "international deals with Middle East\n",
    "2) His personal life :\n",
    "\n",
    "celebrity apprentice (TV Shows)\n",
    "Golf\n",
    "Court case\n",
    "His real estates, i.e. buildings and hotels\n",
    "From 2012 to 2015, Donald Trump's tweets included political, economic and entertaining topics. In the next few years, especially after he took office as president, there were almost no personal life and economy topics but more about politics. Donald Trump used Twitter as a tool for reaching his political goals and refuting the accuses from his opponents.\n",
    "\n",
    "All in all, Donald Trump tweets are used for his political career after 2015."
   ]
  }
 ],
 "metadata": {
  "colab": {
   "collapsed_sections": [],
   "name": "Donald Trump Pyspark.ipynb",
   "provenance": []
  },
  "kernelspec": {
   "display_name": "Python 3 (ipykernel)",
   "language": "python",
   "name": "python3"
  },
  "language_info": {
   "codemirror_mode": {
    "name": "ipython",
    "version": 3
   },
   "file_extension": ".py",
   "mimetype": "text/x-python",
   "name": "python",
   "nbconvert_exporter": "python",
   "pygments_lexer": "ipython3",
   "version": "3.9.7"
  }
 },
 "nbformat": 4,
 "nbformat_minor": 1
}
